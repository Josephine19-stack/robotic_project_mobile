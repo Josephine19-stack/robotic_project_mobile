{
 "cells": [
  {
   "cell_type": "markdown",
   "id": "a506c7bc",
   "metadata": {},
   "source": [
    "## Tello Drone Green Object Tracking with OpenCV"
   ]
  },
  {
   "cell_type": "markdown",
   "id": "a75101c4",
   "metadata": {},
   "source": [
    "Imports and Setup"
   ]
  },
  {
   "cell_type": "code",
   "execution_count": null,
   "id": "ae43c899",
   "metadata": {},
   "outputs": [],
   "source": [
    "pip install -r requirements.txt\n"
   ]
  },
  {
   "cell_type": "code",
   "execution_count": null,
   "id": "d70bf405",
   "metadata": {},
   "outputs": [],
   "source": [
    "from djitellopy import Tello\n",
    "import cv2\n",
    "import numpy as np\n",
    "import time\n",
    "import os\n"
   ]
  },
  {
   "cell_type": "markdown",
   "id": "b7152705",
   "metadata": {},
   "source": [
    "Create Output Folder"
   ]
  },
  {
   "cell_type": "code",
   "execution_count": null,
   "id": "17c18b9e",
   "metadata": {},
   "outputs": [],
   "source": [
    "# Save videos in a dedicated folder\n",
    "os.makedirs(\"output_videos\", exist_ok=True)\n"
   ]
  },
  {
   "cell_type": "markdown",
   "id": "c5abc429",
   "metadata": {},
   "source": [
    "Connect to Tello and Check Battery"
   ]
  },
  {
   "cell_type": "code",
   "execution_count": null,
   "id": "d5ac1479",
   "metadata": {},
   "outputs": [],
   "source": [
    "tello = Tello()\n",
    "tello.connect()\n",
    "\n",
    "battery = tello.get_battery()\n",
    "print(f\"Battery: {battery}%\")\n",
    "\n",
    "if battery < 20:\n",
    "    print(\"Battery too low. Aborting.\")\n",
    "    exit()\n"
   ]
  },
  {
   "cell_type": "markdown",
   "id": "f8cb1f65",
   "metadata": {},
   "source": [
    "Start Video Stream and Prepare Output"
   ]
  },
  {
   "cell_type": "code",
   "execution_count": null,
   "id": "45d30e43",
   "metadata": {},
   "outputs": [],
   "source": [
    "tello.streamon()\n",
    "frame_reader = tello.get_frame_read()\n",
    "\n",
    "# Timestamped output filename\n",
    "timestamp = time.strftime(\"%Y%m%d_%H%M%S\")\n",
    "video_filename = f\"output_videos/tello_tracking_{timestamp}.avi\"\n",
    "\n",
    "# Configure video writer\n",
    "fourcc = cv2.VideoWriter_fourcc(*'XVID')\n",
    "video_out = cv2.VideoWriter(video_filename, fourcc, 20.0, (640, 480))\n"
   ]
  },
  {
   "cell_type": "markdown",
   "id": "a6255e16",
   "metadata": {},
   "source": [
    "Auto Takeoff"
   ]
  },
  {
   "cell_type": "code",
   "execution_count": null,
   "id": "2b72376a",
   "metadata": {},
   "outputs": [],
   "source": [
    "tello.takeoff()\n",
    "time.sleep(2)\n"
   ]
  },
  {
   "cell_type": "markdown",
   "id": "b1bb1e3c",
   "metadata": {},
   "source": [
    " Define Constants"
   ]
  },
  {
   "cell_type": "code",
   "execution_count": null,
   "id": "496e9a25",
   "metadata": {},
   "outputs": [],
   "source": [
    "frame_center_x = 320\n",
    "frame_center_y = 240\n",
    "tolerance = 50\n",
    "start_time = time.time()\n",
    "max_duration = 180  # seconds\n",
    "last_seen_time = time.time()\n"
   ]
  },
  {
   "cell_type": "markdown",
   "id": "e58fc5b5",
   "metadata": {},
   "source": [
    " Main Loop Track and Move"
   ]
  },
  {
   "cell_type": "code",
   "execution_count": null,
   "id": "b239e0bb",
   "metadata": {},
   "outputs": [],
   "source": [
    "\n",
    "try:\n",
    "    while True:\n",
    "        frame = frame_reader.frame\n",
    "        if frame is None:\n",
    "            print(\"Frame not received, skipping...\")\n",
    "            continue\n",
    "\n",
    "        frame = cv2.resize(frame, (640, 480))\n",
    "        hsv = cv2.cvtColor(frame, cv2.COLOR_BGR2HSV)\n",
    "\n",
    "        # Green detection range\n",
    "        lower_green = np.array([30, 40, 40])\n",
    "        upper_green = np.array([90, 255, 255])\n",
    "        mask = cv2.inRange(hsv, lower_green, upper_green)\n",
    "        contours, _ = cv2.findContours(mask, cv2.RETR_EXTERNAL, cv2.CHAIN_APPROX_SIMPLE)\n",
    "\n",
    "        valid_contour_found = False\n",
    "        for cnt in contours:\n",
    "            area = cv2.contourArea(cnt)\n",
    "            if area > 1000:\n",
    "                valid_contour_found = True\n",
    "                x, y, w, h = cv2.boundingRect(cnt)\n",
    "                cx = x + w // 2\n",
    "                cy = y + h // 2\n",
    "                last_seen_time = time.time()\n",
    "\n",
    "                # Draw bounding box and center point\n",
    "                cv2.rectangle(frame, (x, y), (x + w, y + h), (0, 255, 0), 2)\n",
    "                cv2.circle(frame, (cx, cy), 5, (0, 255, 0), -1)\n",
    "                cv2.putText(frame, f\"({cx}, {cy}) Area: {int(area)}\", (x, y - 10),\n",
    "                            cv2.FONT_HERSHEY_SIMPLEX, 0.6, (0, 255, 0), 2)\n",
    "\n",
    "                print(f\" Green object at: ({cx}, {cy}) | Area: {area:.1f}\")\n",
    "\n",
    "                # Motion commands\n",
    "                if cx < frame_center_x - tolerance:\n",
    "                    print(\"→ Move LEFT\")\n",
    "                    tello.move_left(20)\n",
    "                elif cx > frame_center_x + tolerance:\n",
    "                    print(\"→ Move RIGHT\")\n",
    "                    tello.move_right(20)\n",
    "\n",
    "                if cy < frame_center_y - tolerance:\n",
    "\n",
    "                    print(\"→ Move UP\")\n",
    "                    tello.move_up(20)\n",
    "                elif cy > frame_center_y + tolerance:\n",
    "                    print(\"→ Move DOWN\")\n",
    "                    tello.move_down(20)\n",
    "\n",
    "                if area < 3000:\n",
    "                    print(\"→ Move FORWARD\")\n",
    "                    tello.move_forward(20)\n",
    "                elif area > 25000:\n",
    "                    print(\"→ Move BACKWARD\")\n",
    "                    tello.move_back(20)\n",
    "                else:\n",
    "                    print(\"→ HOLD POSITION\")\n",
    "\n",
    "                break\n",
    "\n",
    "        if not valid_contour_found and time.time() - last_seen_time > 5:\n",
    "            print(\" No green detected, rotating...\")\n",
    "            tello.rotate_clockwise(30)\n",
    "            time.sleep(1)\n",
    "            last_seen_time = time.time()\n",
    "\n",
    "        # Overlay timestamp and center dot\n",
    "        elapsed = int(time.time() - start_time)\n",
    "        cv2.putText(frame, f\"Time: {elapsed}s\", (10, 470),\n",
    "                    cv2.FONT_HERSHEY_SIMPLEX, 0.6, (255, 255, 255), 2)\n",
    "        cv2.circle(frame, (frame_center_x, frame_center_y), 5, (0, 0, 255), -1)\n",
    "\n",
    "        # Write and show\n",
    "        video_out.write(frame)\n",
    "        print(f\"Frame at {elapsed}s written to video.\")\n",
    "\n",
    "        cv2.imshow(\"Tello Camera\", frame)\n",
    "        cv2.imshow(\"Green Mask\", mask)\n",
    "\n",
    "        # Quit on ESC\n",
    "        if cv2.waitKey(1) & 0xFF == 27:\n",
    "            print(\" ESC pressed — landing...\")\n",
    "            break\n",
    "\n",
    "        # Timeout\n",
    "        if time.time() - start_time > max_duration:\n",
    "            print(\" Max duration reached — landing.\")\n",
    "            break\n",
    "\n",
    "        time.sleep(0.05)\n",
    "\n",
    "except KeyboardInterrupt:\n",
    "    print(\"KeyboardInterrupt — landing.\")\n",
    "\n",
    "finally:\n",
    "    tello.land()\n",
    "    tello.streamoff()\n",
    "    cv2.destroyAllWindows()\n",
    "    video_out.release()\n",
    "    print(f\" Drone landed. Video saved to {video_filename}\")\n",
    "    print(f\" Total duration recorded: {int(time.time() - start_time)} seconds\")\n"
   ]
  }
 ],
 "metadata": {
  "kernelspec": {
   "display_name": "trial",
   "language": "python",
   "name": "python3"
  },
  "language_info": {
   "codemirror_mode": {
    "name": "ipython",
    "version": 3
   },
   "file_extension": ".py",
   "mimetype": "text/x-python",
   "name": "python",
   "nbconvert_exporter": "python",
   "pygments_lexer": "ipython3",
   "version": "3.12.5"
  }
 },
 "nbformat": 4,
 "nbformat_minor": 5
}
