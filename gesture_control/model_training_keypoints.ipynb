{
 "cells": [
  {
   "cell_type": "code",
   "execution_count": 6,
   "id": "f--EhJe2FuGS",
   "metadata": {
    "colab": {
     "base_uri": "https://localhost:8080/"
    },
    "executionInfo": {
     "elapsed": 25924,
     "status": "ok",
     "timestamp": 1750502695517,
     "user": {
      "displayName": "Hermione B.",
      "userId": "15561416187837768693"
     },
     "user_tz": -120
    },
    "id": "f--EhJe2FuGS",
    "outputId": "1bad79fd-802b-4ac1-fd8b-42bce6a3a99d"
   },
   "outputs": [
    {
     "ename": "ModuleNotFoundError",
     "evalue": "No module named 'google.colab'",
     "output_type": "error",
     "traceback": [
      "\u001b[1;31m---------------------------------------------------------------------------\u001b[0m",
      "\u001b[1;31mModuleNotFoundError\u001b[0m                       Traceback (most recent call last)",
      "Cell \u001b[1;32mIn[6], line 1\u001b[0m\n\u001b[1;32m----> 1\u001b[0m \u001b[38;5;28;01mfrom\u001b[39;00m\u001b[38;5;250m \u001b[39m\u001b[38;5;21;01mgoogle\u001b[39;00m\u001b[38;5;21;01m.\u001b[39;00m\u001b[38;5;21;01mcolab\u001b[39;00m\u001b[38;5;250m \u001b[39m\u001b[38;5;28;01mimport\u001b[39;00m drive\n\u001b[0;32m      2\u001b[0m drive\u001b[38;5;241m.\u001b[39mmount(\u001b[38;5;124m'\u001b[39m\u001b[38;5;124m/content/drive\u001b[39m\u001b[38;5;124m'\u001b[39m)\n",
      "\u001b[1;31mModuleNotFoundError\u001b[0m: No module named 'google.colab'"
     ]
    }
   ],
   "source": [
    "from google.colab import drive\n",
    "drive.mount('/content/drive')"
   ]
  },
  {
   "cell_type": "code",
   "execution_count": 7,
   "id": "1bc4d9d5",
   "metadata": {
    "executionInfo": {
     "elapsed": 3858,
     "status": "ok",
     "timestamp": 1750502733967,
     "user": {
      "displayName": "Hermione B.",
      "userId": "15561416187837768693"
     },
     "user_tz": -120
    },
    "id": "1bc4d9d5"
   },
   "outputs": [],
   "source": [
    "#%pip install tensorflow\n",
    "import pandas as pd\n",
    "import numpy as np\n",
    "import matplotlib.pyplot as plt\n",
    "import os\n",
    "import tensorflow as tf\n",
    "from sklearn.model_selection import train_test_split"
   ]
  },
  {
   "cell_type": "code",
   "execution_count": null,
   "id": "rG1H44N3GA5y",
   "metadata": {
    "executionInfo": {
     "elapsed": 45,
     "status": "ok",
     "timestamp": 1750502749213,
     "user": {
      "displayName": "Hermione B.",
      "userId": "15561416187837768693"
     },
     "user_tz": -120
    },
    "id": "rG1H44N3GA5y"
   },
   "outputs": [],
   "source": [
    "device_name = tf.test.gpu_device_name()"
   ]
  },
  {
   "cell_type": "code",
   "execution_count": 8,
   "id": "06953340",
   "metadata": {
    "executionInfo": {
     "elapsed": 42,
     "status": "ok",
     "timestamp": 1750502933886,
     "user": {
      "displayName": "Hermione B.",
      "userId": "15561416187837768693"
     },
     "user_tz": -120
    },
    "id": "06953340"
   },
   "outputs": [],
   "source": [
    "#model_save_path = '/content/drive/MyDrive/Telecom Paris/projet robotique mobile/Project/data/keypoint_classifier.keras'\n",
    "#CSV_PATH = '/content/drive/MyDrive/Telecom Paris/projet robotique mobile/Project/data/keypoint.csv'\n",
    "model_save_path = 'data/keypoint_classifier.keras'\n",
    "CSV_PATH = 'data/keypoint.csv'"
   ]
  },
  {
   "cell_type": "code",
   "execution_count": 10,
   "id": "99788644",
   "metadata": {
    "executionInfo": {
     "elapsed": 28,
     "status": "ok",
     "timestamp": 1750502937798,
     "user": {
      "displayName": "Hermione B.",
      "userId": "15561416187837768693"
     },
     "user_tz": -120
    },
    "id": "99788644"
   },
   "outputs": [],
   "source": [
    "RANDOM_SEED = 42\n",
    "NUM_KEYPOINTS = 21"
   ]
  },
  {
   "cell_type": "code",
   "execution_count": 11,
   "id": "bf163bd3",
   "metadata": {
    "colab": {
     "base_uri": "https://localhost:8080/"
    },
    "executionInfo": {
     "elapsed": 1705,
     "status": "ok",
     "timestamp": 1750502947371,
     "user": {
      "displayName": "Hermione B.",
      "userId": "15561416187837768693"
     },
     "user_tz": -120
    },
    "id": "bf163bd3",
    "outputId": "6a9247a3-9b4e-4549-f461-b26b288e5898"
   },
   "outputs": [
    {
     "name": "stdout",
     "output_type": "stream",
     "text": [
      "Shape du dataset : (6190, 43)\n",
      "Nombre de colonnes attendues : 43 (label + 21 x,y)\n"
     ]
    }
   ],
   "source": [
    "df = pd.read_csv(CSV_PATH, header=None)\n",
    "\n",
    "print(f\"Shape du dataset : {df.shape}\")\n",
    "print(f\"Nombre de colonnes attendues : {1 + NUM_KEYPOINTS * 2} (label + 21 x,y)\")\n",
    "assert df.shape[1] == 1 + NUM_KEYPOINTS * 2, \"Format incorrect de keypoint.csv\""
   ]
  },
  {
   "cell_type": "code",
   "execution_count": null,
   "id": "ba3d6363",
   "metadata": {},
   "outputs": [
    {
     "data": {
      "text/plain": [
       "0\n",
       "1    1663\n",
       "0    1595\n",
       "2    1510\n",
       "3     672\n",
       "5     257\n",
       "7     190\n",
       "4     164\n",
       "6     139\n",
       "Name: count, dtype: int64"
      ]
     },
     "execution_count": 5,
     "metadata": {},
     "output_type": "execute_result"
    }
   ],
   "source": [
    "df[0].value_counts()"
   ]
  },
  {
   "cell_type": "code",
   "execution_count": 12,
   "id": "041843e1",
   "metadata": {
    "executionInfo": {
     "elapsed": 361,
     "status": "ok",
     "timestamp": 1750502955253,
     "user": {
      "displayName": "Hermione B.",
      "userId": "15561416187837768693"
     },
     "user_tz": -120
    },
    "id": "041843e1"
   },
   "outputs": [],
   "source": [
    "labels = df.iloc[:, 0].values\n",
    "features = df.iloc[:, 1:].values"
   ]
  },
  {
   "cell_type": "code",
   "execution_count": 13,
   "id": "218f2060",
   "metadata": {
    "executionInfo": {
     "elapsed": 32,
     "status": "ok",
     "timestamp": 1750502957820,
     "user": {
      "displayName": "Hermione B.",
      "userId": "15561416187837768693"
     },
     "user_tz": -120
    },
    "id": "218f2060"
   },
   "outputs": [],
   "source": [
    "X_train, X_test, y_train, y_test = train_test_split(features, labels, train_size=0.75, random_state=RANDOM_SEED)"
   ]
  },
  {
   "cell_type": "code",
   "execution_count": null,
   "id": "b22ee648",
   "metadata": {
    "colab": {
     "base_uri": "https://localhost:8080/",
     "height": 442
    },
    "executionInfo": {
     "elapsed": 422,
     "status": "ok",
     "timestamp": 1750502964543,
     "user": {
      "displayName": "Hermione B.",
      "userId": "15561416187837768693"
     },
     "user_tz": -120
    },
    "id": "b22ee648",
    "outputId": "8d49de05-801c-4b7b-bc18-8165800d1149"
   },
   "outputs": [
    {
     "name": "stdout",
     "output_type": "stream",
     "text": [
      "(array([0, 1, 2, 3, 4, 5, 6, 7]), array([1595, 1663, 1510,  672,  164,  257,  139,  190]))\n"
     ]
    },
    {
     "data": {
      "image/png": "[encoded data removed]",
      "text/plain": [
       "<Figure size 640x480 with 1 Axes>"
      ]
     },
     "metadata": {},
     "output_type": "display_data"
    }
   ],
   "source": [
    "counts = np.unique(labels, return_counts=True)\n",
    "df = pd.DataFrame(counts)\n",
    "df.T.plot(kind=\"bar\", stacked=True)\n",
    "print(counts)"
   ]
  },
  {
   "cell_type": "code",
   "execution_count": null,
   "id": "a92672d2",
   "metadata": {
    "executionInfo": {
     "elapsed": 31,
     "status": "ok",
     "timestamp": 1750502979664,
     "user": {
      "displayName": "Hermione B.",
      "userId": "15561416187837768693"
     },
     "user_tz": -120
    },
    "id": "a92672d2"
   },
   "outputs": [],
   "source": [
    "class KeypointGestureClassifier:\n",
    "    def __init__(self, X_train, y_train, X_test, y_test, model_save_path, num_class= 8, batch_size=32):\n",
    "        self.X_train = X_train\n",
    "        self.y_train = y_train\n",
    "        self.X_test = X_test\n",
    "        self.y_test = y_test\n",
    "        self.model_save_path = model_save_path\n",
    "        self.num_classes = num_class\n",
    "        self.model = self.build_model()\n",
    "        self.batch_size = batch_size\n",
    "        # os.makedirs(os.path.dirname(self.model_save_path), exist_ok=True) ## a quoi ça sert ?\n",
    "\n",
    "    def build_model(self):\n",
    "        return tf.keras.models.Sequential([\n",
    "            tf.keras.layers.Input(shape=(self.X_train.shape[1],)),\n",
    "            tf.keras.layers.Dense(64, activation='relu'),\n",
    "            tf.keras.layers.Dropout(0.2),\n",
    "            tf.keras.layers.Dense(64, activation='relu'),\n",
    "            tf.keras.layers.Dropout(0.2),\n",
    "            tf.keras.layers.Dense(32, activation='relu'),\n",
    "            tf.keras.layers.Dense(self.num_classes, activation='softmax')\n",
    "        ])\n",
    "\n",
    "    def compile_model(self):\n",
    "        self.model.compile(\n",
    "            optimizer=tf.keras.optimizers.Adam(learning_rate=0.001),\n",
    "            loss='sparse_categorical_crossentropy', # sinon il faut one_encode les labels 'categorical_crossentropy',\n",
    "            metrics=['accuracy']\n",
    "        )\n",
    "\n",
    "    def create_callbacks(self, patience=50):\n",
    "        cp_callback = tf.keras.callbacks.ModelCheckpoint(\n",
    "            self.model_save_path,\n",
    "            save_best_only=True,\n",
    "            save_weights_only=False,\n",
    "            verbose=1\n",
    "        )\n",
    "        es_callback = tf.keras.callbacks.EarlyStopping(\n",
    "            patience=patience,\n",
    "            restore_best_weights=True,\n",
    "            verbose=1\n",
    "        )\n",
    "        return [cp_callback, es_callback]\n",
    "\n",
    "    def train(self, epochs=1000, callbacks=None):\n",
    "        if callbacks is None:\n",
    "            callbacks = self.create_callbacks()\n",
    "        history = self.model.fit(\n",
    "                self.X_train,\n",
    "                self.y_train,\n",
    "                epochs=epochs,\n",
    "                batch_size=self.batch_size,\n",
    "                validation_data=(self.X_test, self.y_test),\n",
    "                callbacks=callbacks\n",
    "        )\n",
    "        return history\n",
    "\n",
    "    def evaluate_saved_model(self):\n",
    "        model = tf.keras.models.load_model(self.model_save_path)\n",
    "        loss, acc = model.evaluate(self.X_test, self.y_test, batch_size=64)\n",
    "        print(f\"Test: accuracy is {acc:.4f} and loss is {loss:.4f}\")\n",
    "        return model\n",
    "\n",
    "    def predict(self, input_array):\n",
    "        if self.model is None:\n",
    "            self.model = tf.keras.models.load_model(self.model_save_path)\n",
    "        preds = self.model.predict(np.array([input_array]))\n",
    "        return preds[0]  # vecteur de probabilités\n"
   ]
  },
  {
   "cell_type": "code",
   "execution_count": null,
   "id": "b4bc8297",
   "metadata": {
    "executionInfo": {
     "elapsed": 1538,
     "status": "ok",
     "timestamp": 1750502984645,
     "user": {
      "displayName": "Hermione B.",
      "userId": "15561416187837768693"
     },
     "user_tz": -120
    },
    "id": "b4bc8297"
   },
   "outputs": [],
   "source": [
    "KeypointGestureModel = KeypointGestureClassifier(X_train, y_train, X_test, y_test, model_save_path, num_class= 8, batch_size=32)"
   ]
  },
  {
   "cell_type": "code",
   "execution_count": null,
   "id": "6d4e74fd",
   "metadata": {
    "executionInfo": {
     "elapsed": 28,
     "status": "ok",
     "timestamp": 1750502985885,
     "user": {
      "displayName": "Hermione B.",
      "userId": "15561416187837768693"
     },
     "user_tz": -120
    },
    "id": "6d4e74fd"
   },
   "outputs": [],
   "source": [
    "KeypointGestureModel.compile_model()"
   ]
  },
  {
   "cell_type": "code",
   "execution_count": null,
   "id": "1a268681",
   "metadata": {
    "colab": {
     "base_uri": "https://localhost:8080/"
    },
    "executionInfo": {
     "elapsed": 81842,
     "status": "ok",
     "timestamp": 1750503069232,
     "user": {
      "displayName": "Hermione B.",
      "userId": "15561416187837768693"
     },
     "user_tz": -120
    },
    "id": "1a268681",
    "outputId": "9c32722d-c907-40a6-ef10-ca553ff17f62"
   },
   "outputs": [
    {
     "name": "stdout",
     "output_type": "stream",
     "text": [
      "Epoch 1/1000\n",
      "\u001b[1m146/146\u001b[0m \u001b[32m━━━━━━━━━━━━━━━━━━━━\u001b[0m\u001b[37m\u001b[0m \u001b[1m0s\u001b[0m 21ms/step - accuracy: 0.3494 - loss: 1.6569\n",
      "Epoch 1: val_loss improved from inf to 0.75742, saving model to /content/drive/MyDrive/Telecom Paris/projet robotique mobile/Project/data/keypoint_classifier.keras\n",
      "\u001b[1m146/146\u001b[0m \u001b[32m━━━━━━━━━━━━━━━━━━━━\u001b[0m\u001b[37m\u001b[0m \u001b[1m8s\u001b[0m 35ms/step - accuracy: 0.3502 - loss: 1.6550 - val_accuracy: 0.7403 - val_loss: 0.7574\n",
      "Epoch 2/1000\n",
      "\u001b[1m124/146\u001b[0m \u001b[32m━━━━━━━━━━━━━━━━\u001b[0m\u001b[37m━━━━\u001b[0m \u001b[1m0s\u001b[0m 2ms/step - accuracy: 0.6898 - loss: 0.7953\n",
      "Epoch 2: val_loss improved from 0.75742 to 0.32259, saving model to /content/drive/MyDrive/Telecom Paris/projet robotique mobile/Project/data/keypoint_classifier.keras\n",
      "\u001b[1m146/146\u001b[0m \u001b[32m━━━━━━━━━━━━━━━━━━━━\u001b[0m\u001b[37m\u001b[0m \u001b[1m1s\u001b[0m 3ms/step - accuracy: 0.6977 - loss: 0.7777 - val_accuracy: 0.9141 - val_loss: 0.3226\n",
      "Epoch 3/1000\n",
      "\u001b[1m141/146\u001b[0m \u001b[32m━━━━━━━━━━━━━━━━━━━\u001b[0m\u001b[37m━\u001b[0m \u001b[1m0s\u001b[0m 2ms/step - accuracy: 0.8591 - loss: 0.4178\n",
      "Epoch 3: val_loss improved from 0.32259 to 0.17160, saving model to /content/drive/MyDrive/Telecom Paris/projet robotique mobile/Project/data/keypoint_classifier.keras\n",
      "\u001b[1m146/146\u001b[0m \u001b[32m━━━━━━━━━━━━━━━━━━━━\u001b[0m\u001b[37m\u001b[0m \u001b[1m1s\u001b[0m 4ms/step - accuracy: 0.8597 - loss: 0.4168 - val_accuracy: 0.9722 - val_loss: 0.1716\n",
      "Epoch 4/1000\n",
      "\u001b[1m141/146\u001b[0m \u001b[32m━━━━━━━━━━━━━━━━━━━\u001b[0m\u001b[37m━\u001b[0m \u001b[1m0s\u001b[0m 2ms/step - accuracy: 0.9033 - loss: 0.2934\n",
      "Epoch 4: val_loss improved from 0.17160 to 0.11284, saving model to /content/drive/MyDrive/Telecom Paris/projet robotique mobile/Project/data/keypoint_classifier.keras\n",
      "\u001b[1m146/146\u001b[0m \u001b[32m━━━━━━━━━━━━━━━━━━━━\u001b[0m\u001b[37m\u001b[0m \u001b[1m1s\u001b[0m 4ms/step - accuracy: 0.9038 - loss: 0.2926 - val_accuracy: 0.9793 - val_loss: 0.1128\n",
      "Epoch 5/1000\n",
      "\u001b[1m139/146\u001b[0m \u001b[32m━━━━━━━━━━━━━━━━━━━\u001b[0m\u001b[37m━\u001b[0m \u001b[1m0s\u001b[0m 2ms/step - accuracy: 0.9213 - loss: 0.2317\n",
      "Epoch 5: val_loss improved from 0.11284 to 0.08114, saving model to /content/drive/MyDrive/Telecom Paris/projet robotique mobile/Project/data/keypoint_classifier.keras\n",
      "\u001b[1m146/146\u001b[0m \u001b[32m━━━━━━━━━━━━━━━━━━━━\u001b[0m\u001b[37m\u001b[0m \u001b[1m1s\u001b[0m 4ms/step - accuracy: 0.9218 - loss: 0.2308 - val_accuracy: 0.9845 - val_loss: 0.0811\n",
      "Epoch 6/1000\n",
      "\u001b[1m146/146\u001b[0m \u001b[32m━━━━━━━━━━━━━━━━━━━━\u001b[0m\u001b[37m\u001b[0m \u001b[1m0s\u001b[0m 2ms/step - accuracy: 0.9421 - loss: 0.1807\n",
      "Epoch 6: val_loss improved from 0.08114 to 0.06788, saving model to /content/drive/MyDrive/Telecom Paris/projet robotique mobile/Project/data/keypoint_classifier.keras\n",
      "\u001b[1m146/146\u001b[0m \u001b[32m━━━━━━━━━━━━━━━━━━━━\u001b[0m\u001b[37m\u001b[0m \u001b[1m1s\u001b[0m 3ms/step - accuracy: 0.9421 - loss: 0.1806 - val_accuracy: 0.9864 - val_loss: 0.0679\n",
      "Epoch 7/1000\n",
      "\u001b[1m144/146\u001b[0m \u001b[32m━━━━━━━━━━━━━━━━━━━\u001b[0m\u001b[37m━\u001b[0m \u001b[1m0s\u001b[0m 2ms/step - accuracy: 0.9551 - loss: 0.1451\n",
      "Epoch 7: val_loss improved from 0.06788 to 0.05838, saving model to /content/drive/MyDrive/Telecom Paris/projet robotique mobile/Project/data/keypoint_classifier.keras\n",
      "\u001b[1m146/146\u001b[0m \u001b[32m━━━━━━━━━━━━━━━━━━━━\u001b[0m\u001b[37m\u001b[0m \u001b[1m1s\u001b[0m 4ms/step - accuracy: 0.9551 - loss: 0.1450 - val_accuracy: 0.9839 - val_loss: 0.0584\n",
      "Epoch 8/1000\n",
      "\u001b[1m128/146\u001b[0m \u001b[32m━━━━━━━━━━━━━━━━━\u001b[0m\u001b[37m━━━\u001b[0m \u001b[1m0s\u001b[0m 2ms/step - accuracy: 0.9555 - loss: 0.1300\n",
      "Epoch 8: val_loss improved from 0.05838 to 0.05001, saving model to /content/drive/MyDrive/Telecom Paris/projet robotique mobile/Project/data/keypoint_classifier.keras\n",
      "\u001b[1m146/146\u001b[0m \u001b[32m━━━━━━━━━━━━━━━━━━━━\u001b[0m\u001b[37m\u001b[0m \u001b[1m1s\u001b[0m 3ms/step - accuracy: 0.9557 - loss: 0.1303 - val_accuracy: 0.9897 - val_loss: 0.0500\n",
      "Epoch 9/1000\n",
      "\u001b[1m125/146\u001b[0m \u001b[32m━━━━━━━━━━━━━━━━━\u001b[0m\u001b[37m━━━\u001b[0m \u001b[1m0s\u001b[0m 2ms/step - accuracy: 0.9614 - loss: 0.1393\n",
      "Epoch 9: val_loss improved from 0.05001 to 0.04653, saving model to /content/drive/MyDrive/Telecom Paris/projet robotique mobile/Project/data/keypoint_classifier.keras\n",
      "\u001b[1m146/146\u001b[0m \u001b[32m━━━━━━━━━━━━━━━━━━━━\u001b[0m\u001b[37m\u001b[0m \u001b[1m1s\u001b[0m 3ms/step - accuracy: 0.9618 - loss: 0.1373 - val_accuracy: 0.9884 - val_loss: 0.0465\n",
      "Epoch 10/1000\n",
      "\u001b[1m123/146\u001b[0m \u001b[32m━━━━━━━━━━━━━━━━\u001b[0m\u001b[37m━━━━\u001b[0m \u001b[1m0s\u001b[0m 2ms/step - accuracy: 0.9735 - loss: 0.0963\n",
      "Epoch 10: val_loss improved from 0.04653 to 0.04468, saving model to /content/drive/MyDrive/Telecom Paris/projet robotique mobile/Project/data/keypoint_classifier.keras\n",
      "\u001b[1m146/146\u001b[0m \u001b[32m━━━━━━━━━━━━━━━━━━━━\u001b[0m\u001b[37m\u001b[0m \u001b[1m1s\u001b[0m 3ms/step - accuracy: 0.9731 - loss: 0.0971 - val_accuracy: 0.9916 - val_loss: 0.0447\n",
      "Epoch 11/1000\n",
      "\u001b[1m146/146\u001b[0m \u001b[32m━━━━━━━━━━━━━━━━━━━━\u001b[0m\u001b[37m\u001b[0m \u001b[1m0s\u001b[0m 2ms/step - accuracy: 0.9692 - loss: 0.1134\n",
      "Epoch 11: val_loss improved from 0.04468 to 0.03168, saving model to /content/drive/MyDrive/Telecom Paris/projet robotique mobile/Project/data/keypoint_classifier.keras\n",
      "\u001b[1m146/146\u001b[0m \u001b[32m━━━━━━━━━━━━━━━━━━━━\u001b[0m\u001b[37m\u001b[0m \u001b[1m1s\u001b[0m 3ms/step - accuracy: 0.9692 - loss: 0.1132 - val_accuracy: 0.9916 - val_loss: 0.0317\n",
      "Epoch 12/1000\n",
      "\u001b[1m146/146\u001b[0m \u001b[32m━━━━━━━━━━━━━━━━━━━━\u001b[0m\u001b[37m\u001b[0m \u001b[1m0s\u001b[0m 2ms/step - accuracy: 0.9762 - loss: 0.0854\n",
      "Epoch 12: val_loss did not improve from 0.03168\n",
      "\u001b[1m146/146\u001b[0m \u001b[32m━━━━━━━━━━━━━━━━━━━━\u001b[0m\u001b[37m\u001b[0m \u001b[1m0s\u001b[0m 3ms/step - accuracy: 0.9762 - loss: 0.0854 - val_accuracy: 0.9922 - val_loss: 0.0406\n",
      "Epoch 13/1000\n",
      "\u001b[1m142/146\u001b[0m \u001b[32m━━━━━━━━━━━━━━━━━━━\u001b[0m\u001b[37m━\u001b[0m \u001b[1m0s\u001b[0m 2ms/step - accuracy: 0.9771 - loss: 0.0832\n",
      "Epoch 13: val_loss did not improve from 0.03168\n",
      "\u001b[1m146/146\u001b[0m \u001b[32m━━━━━━━━━━━━━━━━━━━━\u001b[0m\u001b[37m\u001b[0m \u001b[1m1s\u001b[0m 3ms/step - accuracy: 0.9771 - loss: 0.0832 - val_accuracy: 0.9897 - val_loss: 0.0372\n",
      "Epoch 14/1000\n",
      "\u001b[1m140/146\u001b[0m \u001b[32m━━━━━━━━━━━━━━━━━━━\u001b[0m\u001b[37m━\u001b[0m \u001b[1m0s\u001b[0m 2ms/step - accuracy: 0.9750 - loss: 0.0739\n",
      "Epoch 14: val_loss did not improve from 0.03168\n",
      "\u001b[1m146/146\u001b[0m \u001b[32m━━━━━━━━━━━━━━━━━━━━\u001b[0m\u001b[37m\u001b[0m \u001b[1m1s\u001b[0m 3ms/step - accuracy: 0.9751 - loss: 0.0740 - val_accuracy: 0.9910 - val_loss: 0.0353\n",
      "Epoch 15/1000\n",
      "\u001b[1m123/146\u001b[0m \u001b[32m━━━━━━━━━━━━━━━━\u001b[0m\u001b[37m━━━━\u001b[0m \u001b[1m0s\u001b[0m 2ms/step - accuracy: 0.9638 - loss: 0.1225\n",
      "Epoch 15: val_loss did not improve from 0.03168\n",
      "\u001b[1m146/146\u001b[0m \u001b[32m━━━━━━━━━━━━━━━━━━━━\u001b[0m\u001b[37m\u001b[0m \u001b[1m0s\u001b[0m 3ms/step - accuracy: 0.9654 - loss: 0.1175 - val_accuracy: 0.9929 - val_loss: 0.0362\n",
      "Epoch 16/1000\n",
      "\u001b[1m139/146\u001b[0m \u001b[32m━━━━━━━━━━━━━━━━━━━\u001b[0m\u001b[37m━\u001b[0m \u001b[1m0s\u001b[0m 2ms/step - accuracy: 0.9649 - loss: 0.1432\n",
      "Epoch 16: val_loss improved from 0.03168 to 0.02557, saving model to /content/drive/MyDrive/Telecom Paris/projet robotique mobile/Project/data/keypoint_classifier.keras\n",
      "\u001b[1m146/146\u001b[0m \u001b[32m━━━━━━━━━━━━━━━━━━━━\u001b[0m\u001b[37m\u001b[0m \u001b[1m1s\u001b[0m 4ms/step - accuracy: 0.9655 - loss: 0.1405 - val_accuracy: 0.9942 - val_loss: 0.0256\n",
      "Epoch 17/1000\n",
      "\u001b[1m143/146\u001b[0m \u001b[32m━━━━━━━━━━━━━━━━━━━\u001b[0m\u001b[37m━\u001b[0m \u001b[1m0s\u001b[0m 2ms/step - accuracy: 0.9768 - loss: 0.0653\n",
      "Epoch 17: val_loss improved from 0.02557 to 0.02389, saving model to /content/drive/MyDrive/Telecom Paris/projet robotique mobile/Project/data/keypoint_classifier.keras\n",
      "\u001b[1m146/146\u001b[0m \u001b[32m━━━━━━━━━━━━━━━━━━━━\u001b[0m\u001b[37m\u001b[0m \u001b[1m1s\u001b[0m 4ms/step - accuracy: 0.9769 - loss: 0.0652 - val_accuracy: 0.9929 - val_loss: 0.0239\n",
      "Epoch 18/1000\n",
      "\u001b[1m144/146\u001b[0m \u001b[32m━━━━━━━━━━━━━━━━━━━\u001b[0m\u001b[37m━\u001b[0m \u001b[1m0s\u001b[0m 2ms/step - accuracy: 0.9813 - loss: 0.0680\n",
      "Epoch 18: val_loss improved from 0.02389 to 0.02259, saving model to /content/drive/MyDrive/Telecom Paris/projet robotique mobile/Project/data/keypoint_classifier.keras\n",
      "\u001b[1m146/146\u001b[0m \u001b[32m━━━━━━━━━━━━━━━━━━━━\u001b[0m\u001b[37m\u001b[0m \u001b[1m1s\u001b[0m 4ms/step - accuracy: 0.9813 - loss: 0.0679 - val_accuracy: 0.9935 - val_loss: 0.0226\n",
      "Epoch 19/1000\n",
      "\u001b[1m138/146\u001b[0m \u001b[32m━━━━━━━━━━━━━━━━━━\u001b[0m\u001b[37m━━\u001b[0m \u001b[1m0s\u001b[0m 2ms/step - accuracy: 0.9868 - loss: 0.0477\n",
      "Epoch 19: val_loss improved from 0.02259 to 0.02230, saving model to /content/drive/MyDrive/Telecom Paris/projet robotique mobile/Project/data/keypoint_classifier.keras\n",
      "\u001b[1m146/146\u001b[0m \u001b[32m━━━━━━━━━━━━━━━━━━━━\u001b[0m\u001b[37m\u001b[0m \u001b[1m1s\u001b[0m 4ms/step - accuracy: 0.9866 - loss: 0.0480 - val_accuracy: 0.9935 - val_loss: 0.0223\n",
      "Epoch 20/1000\n",
      "\u001b[1m141/146\u001b[0m \u001b[32m━━━━━━━━━━━━━━━━━━━\u001b[0m\u001b[37m━\u001b[0m \u001b[1m0s\u001b[0m 2ms/step - accuracy: 0.9847 - loss: 0.0485\n",
      "Epoch 20: val_loss improved from 0.02230 to 0.01944, saving model to /content/drive/MyDrive/Telecom Paris/projet robotique mobile/Project/data/keypoint_classifier.keras\n",
      "\u001b[1m146/146\u001b[0m \u001b[32m━━━━━━━━━━━━━━━━━━━━\u001b[0m\u001b[37m\u001b[0m \u001b[1m1s\u001b[0m 4ms/step - accuracy: 0.9847 - loss: 0.0488 - val_accuracy: 0.9948 - val_loss: 0.0194\n",
      "Epoch 21/1000\n",
      "\u001b[1m145/146\u001b[0m \u001b[32m━━━━━━━━━━━━━━━━━━━\u001b[0m\u001b[37m━\u001b[0m \u001b[1m0s\u001b[0m 2ms/step - accuracy: 0.9852 - loss: 0.0580\n",
      "Epoch 21: val_loss did not improve from 0.01944\n",
      "\u001b[1m146/146\u001b[0m \u001b[32m━━━━━━━━━━━━━━━━━━━━\u001b[0m\u001b[37m\u001b[0m \u001b[1m0s\u001b[0m 3ms/step - accuracy: 0.9852 - loss: 0.0579 - val_accuracy: 0.9935 - val_loss: 0.0212\n",
      "Epoch 22/1000\n",
      "\u001b[1m141/146\u001b[0m \u001b[32m━━━━━━━━━━━━━━━━━━━\u001b[0m\u001b[37m━\u001b[0m \u001b[1m0s\u001b[0m 2ms/step - accuracy: 0.9748 - loss: 0.0956\n",
      "Epoch 22: val_loss did not improve from 0.01944\n",
      "\u001b[1m146/146\u001b[0m \u001b[32m━━━━━━━━━━━━━━━━━━━━\u001b[0m\u001b[37m\u001b[0m \u001b[1m1s\u001b[0m 3ms/step - accuracy: 0.9750 - loss: 0.0946 - val_accuracy: 0.9935 - val_loss: 0.0240\n",
      "Epoch 23/1000\n",
      "\u001b[1m142/146\u001b[0m \u001b[32m━━━━━━━━━━━━━━━━━━━\u001b[0m\u001b[37m━\u001b[0m \u001b[1m0s\u001b[0m 2ms/step - accuracy: 0.9828 - loss: 0.0595\n",
      "Epoch 23: val_loss did not improve from 0.01944\n",
      "\u001b[1m146/146\u001b[0m \u001b[32m━━━━━━━━━━━━━━━━━━━━\u001b[0m\u001b[37m\u001b[0m \u001b[1m0s\u001b[0m 3ms/step - accuracy: 0.9828 - loss: 0.0594 - val_accuracy: 0.9929 - val_loss: 0.0244\n",
      "Epoch 24/1000\n",
      "\u001b[1m143/146\u001b[0m \u001b[32m━━━━━━━━━━━━━━━━━━━\u001b[0m\u001b[37m━\u001b[0m \u001b[1m0s\u001b[0m 2ms/step - accuracy: 0.9812 - loss: 0.0503\n",
      "Epoch 24: val_loss did not improve from 0.01944\n",
      "\u001b[1m146/146\u001b[0m \u001b[32m━━━━━━━━━━━━━━━━━━━━\u001b[0m\u001b[37m\u001b[0m \u001b[1m0s\u001b[0m 3ms/step - accuracy: 0.9812 - loss: 0.0504 - val_accuracy: 0.9935 - val_loss: 0.0237\n",
      "Epoch 25/1000\n",
      "\u001b[1m142/146\u001b[0m \u001b[32m━━━━━━━━━━━━━━━━━━━\u001b[0m\u001b[37m━\u001b[0m \u001b[1m0s\u001b[0m 2ms/step - accuracy: 0.9865 - loss: 0.0449\n",
      "Epoch 25: val_loss did not improve from 0.01944\n",
      "\u001b[1m146/146\u001b[0m \u001b[32m━━━━━━━━━━━━━━━━━━━━\u001b[0m\u001b[37m\u001b[0m \u001b[1m1s\u001b[0m 3ms/step - accuracy: 0.9865 - loss: 0.0448 - val_accuracy: 0.9929 - val_loss: 0.0230\n",
      "Epoch 26/1000\n",
      "\u001b[1m136/146\u001b[0m \u001b[32m━━━━━━━━━━━━━━━━━━\u001b[0m\u001b[37m━━\u001b[0m \u001b[1m0s\u001b[0m 2ms/step - accuracy: 0.9899 - loss: 0.0331\n",
      "Epoch 26: val_loss did not improve from 0.01944\n",
      "\u001b[1m146/146\u001b[0m \u001b[32m━━━━━━━━━━━━━━━━━━━━\u001b[0m\u001b[37m\u001b[0m \u001b[1m1s\u001b[0m 3ms/step - accuracy: 0.9898 - loss: 0.0338 - val_accuracy: 0.9935 - val_loss: 0.0217\n",
      "Epoch 27/1000\n",
      "\u001b[1m125/146\u001b[0m \u001b[32m━━━━━━━━━━━━━━━━━\u001b[0m\u001b[37m━━━\u001b[0m \u001b[1m0s\u001b[0m 2ms/step - accuracy: 0.9840 - loss: 0.0510\n",
      "Epoch 27: val_loss improved from 0.01944 to 0.01830, saving model to /content/drive/MyDrive/Telecom Paris/projet robotique mobile/Project/data/keypoint_classifier.keras\n",
      "\u001b[1m146/146\u001b[0m \u001b[32m━━━━━━━━━━━━━━━━━━━━\u001b[0m\u001b[37m\u001b[0m \u001b[1m1s\u001b[0m 3ms/step - accuracy: 0.9844 - loss: 0.0497 - val_accuracy: 0.9929 - val_loss: 0.0183\n",
      "Epoch 28/1000\n",
      "\u001b[1m145/146\u001b[0m \u001b[32m━━━━━━━━━━━━━━━━━━━\u001b[0m\u001b[37m━\u001b[0m \u001b[1m0s\u001b[0m 2ms/step - accuracy: 0.9910 - loss: 0.0343\n",
      "Epoch 28: val_loss improved from 0.01830 to 0.01772, saving model to /content/drive/MyDrive/Telecom Paris/projet robotique mobile/Project/data/keypoint_classifier.keras\n",
      "\u001b[1m146/146\u001b[0m \u001b[32m━━━━━━━━━━━━━━━━━━━━\u001b[0m\u001b[37m\u001b[0m \u001b[1m1s\u001b[0m 4ms/step - accuracy: 0.9910 - loss: 0.0343 - val_accuracy: 0.9935 - val_loss: 0.0177\n",
      "Epoch 29/1000\n",
      "\u001b[1m123/146\u001b[0m \u001b[32m━━━━━━━━━━━━━━━━\u001b[0m\u001b[37m━━━━\u001b[0m \u001b[1m0s\u001b[0m 2ms/step - accuracy: 0.9898 - loss: 0.0365\n",
      "Epoch 29: val_loss improved from 0.01772 to 0.01677, saving model to /content/drive/MyDrive/Telecom Paris/projet robotique mobile/Project/data/keypoint_classifier.keras\n",
      "\u001b[1m146/146\u001b[0m \u001b[32m━━━━━━━━━━━━━━━━━━━━\u001b[0m\u001b[37m\u001b[0m \u001b[1m1s\u001b[0m 4ms/step - accuracy: 0.9898 - loss: 0.0366 - val_accuracy: 0.9942 - val_loss: 0.0168\n",
      "Epoch 30/1000\n",
      "\u001b[1m123/146\u001b[0m \u001b[32m━━━━━━━━━━━━━━━━\u001b[0m\u001b[37m━━━━\u001b[0m \u001b[1m0s\u001b[0m 2ms/step - accuracy: 0.9892 - loss: 0.0307\n",
      "Epoch 30: val_loss did not improve from 0.01677\n",
      "\u001b[1m146/146\u001b[0m \u001b[32m━━━━━━━━━━━━━━━━━━━━\u001b[0m\u001b[37m\u001b[0m \u001b[1m0s\u001b[0m 3ms/step - accuracy: 0.9891 - loss: 0.0314 - val_accuracy: 0.9942 - val_loss: 0.0214\n",
      "Epoch 31/1000\n",
      "\u001b[1m145/146\u001b[0m \u001b[32m━━━━━━━━━━━━━━━━━━━\u001b[0m\u001b[37m━\u001b[0m \u001b[1m0s\u001b[0m 2ms/step - accuracy: 0.9867 - loss: 0.0381\n",
      "Epoch 31: val_loss improved from 0.01677 to 0.01574, saving model to /content/drive/MyDrive/Telecom Paris/projet robotique mobile/Project/data/keypoint_classifier.keras\n",
      "\u001b[1m146/146\u001b[0m \u001b[32m━━━━━━━━━━━━━━━━━━━━\u001b[0m\u001b[37m\u001b[0m \u001b[1m1s\u001b[0m 4ms/step - accuracy: 0.9867 - loss: 0.0382 - val_accuracy: 0.9948 - val_loss: 0.0157\n",
      "Epoch 32/1000\n",
      "\u001b[1m138/146\u001b[0m \u001b[32m━━━━━━━━━━━━━━━━━━\u001b[0m\u001b[37m━━\u001b[0m \u001b[1m0s\u001b[0m 2ms/step - accuracy: 0.9853 - loss: 0.0441\n",
      "Epoch 32: val_loss did not improve from 0.01574\n",
      "\u001b[1m146/146\u001b[0m \u001b[32m━━━━━━━━━━━━━━━━━━━━\u001b[0m\u001b[37m\u001b[0m \u001b[1m1s\u001b[0m 3ms/step - accuracy: 0.9854 - loss: 0.0441 - val_accuracy: 0.9948 - val_loss: 0.0176\n",
      "Epoch 33/1000\n",
      "\u001b[1m123/146\u001b[0m \u001b[32m━━━━━━━━━━━━━━━━\u001b[0m\u001b[37m━━━━\u001b[0m \u001b[1m0s\u001b[0m 2ms/step - accuracy: 0.9806 - loss: 0.0478\n",
      "Epoch 33: val_loss did not improve from 0.01574\n",
      "\u001b[1m146/146\u001b[0m \u001b[32m━━━━━━━━━━━━━━━━━━━━\u001b[0m\u001b[37m\u001b[0m \u001b[1m0s\u001b[0m 3ms/step - accuracy: 0.9811 - loss: 0.0474 - val_accuracy: 0.9942 - val_loss: 0.0168\n",
      "Epoch 34/1000\n",
      "\u001b[1m123/146\u001b[0m \u001b[32m━━━━━━━━━━━━━━━━\u001b[0m\u001b[37m━━━━\u001b[0m \u001b[1m0s\u001b[0m 2ms/step - accuracy: 0.9879 - loss: 0.0399\n",
      "Epoch 34: val_loss did not improve from 0.01574\n",
      "\u001b[1m146/146\u001b[0m \u001b[32m━━━━━━━━━━━━━━━━━━━━\u001b[0m\u001b[37m\u001b[0m \u001b[1m0s\u001b[0m 3ms/step - accuracy: 0.9878 - loss: 0.0397 - val_accuracy: 0.9942 - val_loss: 0.0158\n",
      "Epoch 35/1000\n",
      "\u001b[1m145/146\u001b[0m \u001b[32m━━━━━━━━━━━━━━━━━━━\u001b[0m\u001b[37m━\u001b[0m \u001b[1m0s\u001b[0m 2ms/step - accuracy: 0.9924 - loss: 0.0307\n",
      "Epoch 35: val_loss did not improve from 0.01574\n",
      "\u001b[1m146/146\u001b[0m \u001b[32m━━━━━━━━━━━━━━━━━━━━\u001b[0m\u001b[37m\u001b[0m \u001b[1m0s\u001b[0m 3ms/step - accuracy: 0.9923 - loss: 0.0308 - val_accuracy: 0.9935 - val_loss: 0.0182\n",
      "Epoch 36/1000\n",
      "\u001b[1m125/146\u001b[0m \u001b[32m━━━━━━━━━━━━━━━━━\u001b[0m\u001b[37m━━━\u001b[0m \u001b[1m0s\u001b[0m 2ms/step - accuracy: 0.9871 - loss: 0.0465\n",
      "Epoch 36: val_loss improved from 0.01574 to 0.01365, saving model to /content/drive/MyDrive/Telecom Paris/projet robotique mobile/Project/data/keypoint_classifier.keras\n",
      "\u001b[1m146/146\u001b[0m \u001b[32m━━━━━━━━━━━━━━━━━━━━\u001b[0m\u001b[37m\u001b[0m \u001b[1m1s\u001b[0m 3ms/step - accuracy: 0.9876 - loss: 0.0449 - val_accuracy: 0.9955 - val_loss: 0.0136\n",
      "Epoch 37/1000\n",
      "\u001b[1m123/146\u001b[0m \u001b[32m━━━━━━━━━━━━━━━━\u001b[0m\u001b[37m━━━━\u001b[0m \u001b[1m0s\u001b[0m 2ms/step - accuracy: 0.9894 - loss: 0.0363\n",
      "Epoch 37: val_loss did not improve from 0.01365\n",
      "\u001b[1m146/146\u001b[0m \u001b[32m━━━━━━━━━━━━━━━━━━━━\u001b[0m\u001b[37m\u001b[0m \u001b[1m0s\u001b[0m 3ms/step - accuracy: 0.9897 - loss: 0.0354 - val_accuracy: 0.9948 - val_loss: 0.0154\n",
      "Epoch 38/1000\n",
      "\u001b[1m142/146\u001b[0m \u001b[32m━━━━━━━━━━━━━━━━━━━\u001b[0m\u001b[37m━\u001b[0m \u001b[1m0s\u001b[0m 2ms/step - accuracy: 0.9927 - loss: 0.0286\n",
      "Epoch 38: val_loss improved from 0.01365 to 0.01350, saving model to /content/drive/MyDrive/Telecom Paris/projet robotique mobile/Project/data/keypoint_classifier.keras\n",
      "\u001b[1m146/146\u001b[0m \u001b[32m━━━━━━━━━━━━━━━━━━━━\u001b[0m\u001b[37m\u001b[0m \u001b[1m1s\u001b[0m 4ms/step - accuracy: 0.9927 - loss: 0.0286 - val_accuracy: 0.9968 - val_loss: 0.0135\n",
      "Epoch 39/1000\n",
      "\u001b[1m125/146\u001b[0m \u001b[32m━━━━━━━━━━━━━━━━━\u001b[0m\u001b[37m━━━\u001b[0m \u001b[1m0s\u001b[0m 2ms/step - accuracy: 0.9914 - loss: 0.0331\n",
      "Epoch 39: val_loss improved from 0.01350 to 0.01282, saving model to /content/drive/MyDrive/Telecom Paris/projet robotique mobile/Project/data/keypoint_classifier.keras\n",
      "\u001b[1m146/146\u001b[0m \u001b[32m━━━━━━━━━━━━━━━━━━━━\u001b[0m\u001b[37m\u001b[0m \u001b[1m1s\u001b[0m 3ms/step - accuracy: 0.9914 - loss: 0.0332 - val_accuracy: 0.9955 - val_loss: 0.0128\n",
      "Epoch 40/1000\n",
      "\u001b[1m125/146\u001b[0m \u001b[32m━━━━━━━━━━━━━━━━━\u001b[0m\u001b[37m━━━\u001b[0m \u001b[1m0s\u001b[0m 2ms/step - accuracy: 0.9900 - loss: 0.0263\n",
      "Epoch 40: val_loss did not improve from 0.01282\n",
      "\u001b[1m146/146\u001b[0m \u001b[32m━━━━━━━━━━━━━━━━━━━━\u001b[0m\u001b[37m\u001b[0m \u001b[1m0s\u001b[0m 3ms/step - accuracy: 0.9900 - loss: 0.0267 - val_accuracy: 0.9955 - val_loss: 0.0171\n",
      "Epoch 41/1000\n",
      "\u001b[1m123/146\u001b[0m \u001b[32m━━━━━━━━━━━━━━━━\u001b[0m\u001b[37m━━━━\u001b[0m \u001b[1m0s\u001b[0m 2ms/step - accuracy: 0.9755 - loss: 0.0884\n",
      "Epoch 41: val_loss did not improve from 0.01282\n",
      "\u001b[1m146/146\u001b[0m \u001b[32m━━━━━━━━━━━━━━━━━━━━\u001b[0m\u001b[37m\u001b[0m \u001b[1m0s\u001b[0m 3ms/step - accuracy: 0.9764 - loss: 0.0840 - val_accuracy: 0.9942 - val_loss: 0.0195\n",
      "Epoch 42/1000\n",
      "\u001b[1m124/146\u001b[0m \u001b[32m━━━━━━━━━━━━━━━━\u001b[0m\u001b[37m━━━━\u001b[0m \u001b[1m0s\u001b[0m 2ms/step - accuracy: 0.9882 - loss: 0.0301\n",
      "Epoch 42: val_loss improved from 0.01282 to 0.00967, saving model to /content/drive/MyDrive/Telecom Paris/projet robotique mobile/Project/data/keypoint_classifier.keras\n",
      "\u001b[1m146/146\u001b[0m \u001b[32m━━━━━━━━━━━━━━━━━━━━\u001b[0m\u001b[37m\u001b[0m \u001b[1m1s\u001b[0m 4ms/step - accuracy: 0.9884 - loss: 0.0302 - val_accuracy: 0.9974 - val_loss: 0.0097\n",
      "Epoch 43/1000\n",
      "\u001b[1m146/146\u001b[0m \u001b[32m━━━━━━━━━━━━━━━━━━━━\u001b[0m\u001b[37m\u001b[0m \u001b[1m0s\u001b[0m 2ms/step - accuracy: 0.9890 - loss: 0.0333\n",
      "Epoch 43: val_loss did not improve from 0.00967\n",
      "\u001b[1m146/146\u001b[0m \u001b[32m━━━━━━━━━━━━━━━━━━━━\u001b[0m\u001b[37m\u001b[0m \u001b[1m0s\u001b[0m 3ms/step - accuracy: 0.9890 - loss: 0.0333 - val_accuracy: 0.9974 - val_loss: 0.0121\n",
      "Epoch 44/1000\n",
      "\u001b[1m126/146\u001b[0m \u001b[32m━━━━━━━━━━━━━━━━━\u001b[0m\u001b[37m━━━\u001b[0m \u001b[1m0s\u001b[0m 2ms/step - accuracy: 0.9909 - loss: 0.0254\n",
      "Epoch 44: val_loss did not improve from 0.00967\n",
      "\u001b[1m146/146\u001b[0m \u001b[32m━━━━━━━━━━━━━━━━━━━━\u001b[0m\u001b[37m\u001b[0m \u001b[1m0s\u001b[0m 3ms/step - accuracy: 0.9910 - loss: 0.0256 - val_accuracy: 0.9974 - val_loss: 0.0122\n",
      "Epoch 45/1000\n",
      "\u001b[1m146/146\u001b[0m \u001b[32m━━━━━━━━━━━━━━━━━━━━\u001b[0m\u001b[37m\u001b[0m \u001b[1m0s\u001b[0m 2ms/step - accuracy: 0.9924 - loss: 0.0278\n",
      "Epoch 45: val_loss did not improve from 0.00967\n",
      "\u001b[1m146/146\u001b[0m \u001b[32m━━━━━━━━━━━━━━━━━━━━\u001b[0m\u001b[37m\u001b[0m \u001b[1m0s\u001b[0m 3ms/step - accuracy: 0.9924 - loss: 0.0279 - val_accuracy: 0.9974 - val_loss: 0.0138\n",
      "Epoch 46/1000\n",
      "\u001b[1m126/146\u001b[0m \u001b[32m━━━━━━━━━━━━━━━━━\u001b[0m\u001b[37m━━━\u001b[0m \u001b[1m0s\u001b[0m 2ms/step - accuracy: 0.9848 - loss: 0.0531\n",
      "Epoch 46: val_loss did not improve from 0.00967\n",
      "\u001b[1m146/146\u001b[0m \u001b[32m━━━━━━━━━━━━━━━━━━━━\u001b[0m\u001b[37m\u001b[0m \u001b[1m0s\u001b[0m 3ms/step - accuracy: 0.9853 - loss: 0.0513 - val_accuracy: 0.9961 - val_loss: 0.0119\n",
      "Epoch 47/1000\n",
      "\u001b[1m126/146\u001b[0m \u001b[32m━━━━━━━━━━━━━━━━━\u001b[0m\u001b[37m━━━\u001b[0m \u001b[1m0s\u001b[0m 2ms/step - accuracy: 0.9895 - loss: 0.0372\n",
      "Epoch 47: val_loss did not improve from 0.00967\n",
      "\u001b[1m146/146\u001b[0m \u001b[32m━━━━━━━━━━━━━━━━━━━━\u001b[0m\u001b[37m\u001b[0m \u001b[1m0s\u001b[0m 3ms/step - accuracy: 0.9896 - loss: 0.0362 - val_accuracy: 0.9955 - val_loss: 0.0139\n",
      "Epoch 48/1000\n",
      "\u001b[1m129/146\u001b[0m \u001b[32m━━━━━━━━━━━━━━━━━\u001b[0m\u001b[37m━━━\u001b[0m \u001b[1m0s\u001b[0m 2ms/step - accuracy: 0.9907 - loss: 0.0306\n",
      "Epoch 48: val_loss did not improve from 0.00967\n",
      "\u001b[1m146/146\u001b[0m \u001b[32m━━━━━━━━━━━━━━━━━━━━\u001b[0m\u001b[37m\u001b[0m \u001b[1m0s\u001b[0m 3ms/step - accuracy: 0.9909 - loss: 0.0299 - val_accuracy: 0.9974 - val_loss: 0.0155\n",
      "Epoch 49/1000\n",
      "\u001b[1m124/146\u001b[0m \u001b[32m━━━━━━━━━━━━━━━━\u001b[0m\u001b[37m━━━━\u001b[0m \u001b[1m0s\u001b[0m 2ms/step - accuracy: 0.9934 - loss: 0.0209\n",
      "Epoch 49: val_loss did not improve from 0.00967\n",
      "\u001b[1m146/146\u001b[0m \u001b[32m━━━━━━━━━━━━━━━━━━━━\u001b[0m\u001b[37m\u001b[0m \u001b[1m0s\u001b[0m 3ms/step - accuracy: 0.9935 - loss: 0.0214 - val_accuracy: 0.9974 - val_loss: 0.0150\n",
      "Epoch 50/1000\n",
      "\u001b[1m128/146\u001b[0m \u001b[32m━━━━━━━━━━━━━━━━━\u001b[0m\u001b[37m━━━\u001b[0m \u001b[1m0s\u001b[0m 2ms/step - accuracy: 0.9946 - loss: 0.0226\n",
      "Epoch 50: val_loss did not improve from 0.00967\n",
      "\u001b[1m146/146\u001b[0m \u001b[32m━━━━━━━━━━━━━━━━━━━━\u001b[0m\u001b[37m\u001b[0m \u001b[1m0s\u001b[0m 3ms/step - accuracy: 0.9943 - loss: 0.0229 - val_accuracy: 0.9974 - val_loss: 0.0135\n",
      "Epoch 51/1000\n",
      "\u001b[1m129/146\u001b[0m \u001b[32m━━━━━━━━━━━━━━━━━\u001b[0m\u001b[37m━━━\u001b[0m \u001b[1m0s\u001b[0m 2ms/step - accuracy: 0.9913 - loss: 0.0329\n",
      "Epoch 51: val_loss did not improve from 0.00967\n",
      "\u001b[1m146/146\u001b[0m \u001b[32m━━━━━━━━━━━━━━━━━━━━\u001b[0m\u001b[37m\u001b[0m \u001b[1m0s\u001b[0m 3ms/step - accuracy: 0.9912 - loss: 0.0331 - val_accuracy: 0.9981 - val_loss: 0.0112\n",
      "Epoch 52/1000\n",
      "\u001b[1m126/146\u001b[0m \u001b[32m━━━━━━━━━━━━━━━━━\u001b[0m\u001b[37m━━━\u001b[0m \u001b[1m0s\u001b[0m 2ms/step - accuracy: 0.9922 - loss: 0.0232\n",
      "Epoch 52: val_loss did not improve from 0.00967\n",
      "\u001b[1m146/146\u001b[0m \u001b[32m━━━━━━━━━━━━━━━━━━━━\u001b[0m\u001b[37m\u001b[0m \u001b[1m0s\u001b[0m 3ms/step - accuracy: 0.9924 - loss: 0.0231 - val_accuracy: 0.9981 - val_loss: 0.0099\n",
      "Epoch 53/1000\n",
      "\u001b[1m128/146\u001b[0m \u001b[32m━━━━━━━━━━━━━━━━━\u001b[0m\u001b[37m━━━\u001b[0m \u001b[1m0s\u001b[0m 2ms/step - accuracy: 0.9913 - loss: 0.0229\n",
      "Epoch 53: val_loss did not improve from 0.00967\n",
      "\u001b[1m146/146\u001b[0m \u001b[32m━━━━━━━━━━━━━━━━━━━━\u001b[0m\u001b[37m\u001b[0m \u001b[1m0s\u001b[0m 3ms/step - accuracy: 0.9912 - loss: 0.0233 - val_accuracy: 0.9955 - val_loss: 0.0154\n",
      "Epoch 54/1000\n",
      "\u001b[1m126/146\u001b[0m \u001b[32m━━━━━━━━━━━━━━━━━\u001b[0m\u001b[37m━━━\u001b[0m \u001b[1m0s\u001b[0m 2ms/step - accuracy: 0.9945 - loss: 0.0214\n",
      "Epoch 54: val_loss did not improve from 0.00967\n",
      "\u001b[1m146/146\u001b[0m \u001b[32m━━━━━━━━━━━━━━━━━━━━\u001b[0m\u001b[37m\u001b[0m \u001b[1m0s\u001b[0m 3ms/step - accuracy: 0.9943 - loss: 0.0217 - val_accuracy: 0.9974 - val_loss: 0.0140\n",
      "Epoch 55/1000\n",
      "\u001b[1m126/146\u001b[0m \u001b[32m━━━━━━━━━━━━━━━━━\u001b[0m\u001b[37m━━━\u001b[0m \u001b[1m0s\u001b[0m 2ms/step - accuracy: 0.9957 - loss: 0.0182\n",
      "Epoch 55: val_loss did not improve from 0.00967\n",
      "\u001b[1m146/146\u001b[0m \u001b[32m━━━━━━━━━━━━━━━━━━━━\u001b[0m\u001b[37m\u001b[0m \u001b[1m0s\u001b[0m 3ms/step - accuracy: 0.9956 - loss: 0.0183 - val_accuracy: 0.9948 - val_loss: 0.0149\n",
      "Epoch 56/1000\n",
      "\u001b[1m126/146\u001b[0m \u001b[32m━━━━━━━━━━━━━━━━━\u001b[0m\u001b[37m━━━\u001b[0m \u001b[1m0s\u001b[0m 2ms/step - accuracy: 0.9915 - loss: 0.0262\n",
      "Epoch 56: val_loss did not improve from 0.00967\n",
      "\u001b[1m146/146\u001b[0m \u001b[32m━━━━━━━━━━━━━━━━━━━━\u001b[0m\u001b[37m\u001b[0m \u001b[1m0s\u001b[0m 3ms/step - accuracy: 0.9915 - loss: 0.0265 - val_accuracy: 0.9968 - val_loss: 0.0139\n",
      "Epoch 57/1000\n",
      "\u001b[1m128/146\u001b[0m \u001b[32m━━━━━━━━━━━━━━━━━\u001b[0m\u001b[37m━━━\u001b[0m \u001b[1m0s\u001b[0m 2ms/step - accuracy: 0.9914 - loss: 0.0209\n",
      "Epoch 57: val_loss did not improve from 0.00967\n",
      "\u001b[1m146/146\u001b[0m \u001b[32m━━━━━━━━━━━━━━━━━━━━\u001b[0m\u001b[37m\u001b[0m \u001b[1m0s\u001b[0m 3ms/step - accuracy: 0.9916 - loss: 0.0208 - val_accuracy: 0.9961 - val_loss: 0.0116\n",
      "Epoch 58/1000\n",
      "\u001b[1m128/146\u001b[0m \u001b[32m━━━━━━━━━━━━━━━━━\u001b[0m\u001b[37m━━━\u001b[0m \u001b[1m0s\u001b[0m 2ms/step - accuracy: 0.9944 - loss: 0.0194\n",
      "Epoch 58: val_loss did not improve from 0.00967\n",
      "\u001b[1m146/146\u001b[0m \u001b[32m━━━━━━━━━━━━━━━━━━━━\u001b[0m\u001b[37m\u001b[0m \u001b[1m0s\u001b[0m 3ms/step - accuracy: 0.9943 - loss: 0.0196 - val_accuracy: 0.9981 - val_loss: 0.0133\n",
      "Epoch 59/1000\n",
      "\u001b[1m126/146\u001b[0m \u001b[32m━━━━━━━━━━━━━━━━━\u001b[0m\u001b[37m━━━\u001b[0m \u001b[1m0s\u001b[0m 2ms/step - accuracy: 0.9934 - loss: 0.0216\n",
      "Epoch 59: val_loss did not improve from 0.00967\n",
      "\u001b[1m146/146\u001b[0m \u001b[32m━━━━━━━━━━━━━━━━━━━━\u001b[0m\u001b[37m\u001b[0m \u001b[1m0s\u001b[0m 3ms/step - accuracy: 0.9930 - loss: 0.0222 - val_accuracy: 0.9968 - val_loss: 0.0101\n",
      "Epoch 60/1000\n",
      "\u001b[1m126/146\u001b[0m \u001b[32m━━━━━━━━━━━━━━━━━\u001b[0m\u001b[37m━━━\u001b[0m \u001b[1m0s\u001b[0m 2ms/step - accuracy: 0.9954 - loss: 0.0164\n",
      "Epoch 60: val_loss improved from 0.00967 to 0.00885, saving model to /content/drive/MyDrive/Telecom Paris/projet robotique mobile/Project/data/keypoint_classifier.keras\n",
      "\u001b[1m146/146\u001b[0m \u001b[32m━━━━━━━━━━━━━━━━━━━━\u001b[0m\u001b[37m\u001b[0m \u001b[1m1s\u001b[0m 4ms/step - accuracy: 0.9954 - loss: 0.0170 - val_accuracy: 0.9994 - val_loss: 0.0089\n",
      "Epoch 61/1000\n",
      "\u001b[1m126/146\u001b[0m \u001b[32m━━━━━━━━━━━━━━━━━\u001b[0m\u001b[37m━━━\u001b[0m \u001b[1m0s\u001b[0m 2ms/step - accuracy: 0.9974 - loss: 0.0151\n",
      "Epoch 61: val_loss did not improve from 0.00885\n",
      "\u001b[1m146/146\u001b[0m \u001b[32m━━━━━━━━━━━━━━━━━━━━\u001b[0m\u001b[37m\u001b[0m \u001b[1m0s\u001b[0m 3ms/step - accuracy: 0.9974 - loss: 0.0151 - val_accuracy: 0.9987 - val_loss: 0.0095\n",
      "Epoch 62/1000\n",
      "\u001b[1m130/146\u001b[0m \u001b[32m━━━━━━━━━━━━━━━━━\u001b[0m\u001b[37m━━━\u001b[0m \u001b[1m0s\u001b[0m 2ms/step - accuracy: 0.9956 - loss: 0.0148\n",
      "Epoch 62: val_loss did not improve from 0.00885\n",
      "\u001b[1m146/146\u001b[0m \u001b[32m━━━━━━━━━━━━━━━━━━━━\u001b[0m\u001b[37m\u001b[0m \u001b[1m0s\u001b[0m 3ms/step - accuracy: 0.9955 - loss: 0.0150 - val_accuracy: 0.9981 - val_loss: 0.0096\n",
      "Epoch 63/1000\n",
      "\u001b[1m127/146\u001b[0m \u001b[32m━━━━━━━━━━━━━━━━━\u001b[0m\u001b[37m━━━\u001b[0m \u001b[1m0s\u001b[0m 2ms/step - accuracy: 0.9933 - loss: 0.0250\n",
      "Epoch 63: val_loss did not improve from 0.00885\n",
      "\u001b[1m146/146\u001b[0m \u001b[32m━━━━━━━━━━━━━━━━━━━━\u001b[0m\u001b[37m\u001b[0m \u001b[1m0s\u001b[0m 3ms/step - accuracy: 0.9934 - loss: 0.0249 - val_accuracy: 0.9974 - val_loss: 0.0110\n",
      "Epoch 64/1000\n",
      "\u001b[1m123/146\u001b[0m \u001b[32m━━━━━━━━━━━━━━━━\u001b[0m\u001b[37m━━━━\u001b[0m \u001b[1m0s\u001b[0m 2ms/step - accuracy: 0.9933 - loss: 0.0196\n",
      "Epoch 64: val_loss did not improve from 0.00885\n",
      "\u001b[1m146/146\u001b[0m \u001b[32m━━━━━━━━━━━━━━━━━━━━\u001b[0m\u001b[37m\u001b[0m \u001b[1m0s\u001b[0m 3ms/step - accuracy: 0.9931 - loss: 0.0204 - val_accuracy: 0.9981 - val_loss: 0.0141\n",
      "Epoch 65/1000\n",
      "\u001b[1m145/146\u001b[0m \u001b[32m━━━━━━━━━━━━━━━━━━━\u001b[0m\u001b[37m━\u001b[0m \u001b[1m0s\u001b[0m 2ms/step - accuracy: 0.9913 - loss: 0.0254\n",
      "Epoch 65: val_loss did not improve from 0.00885\n",
      "\u001b[1m146/146\u001b[0m \u001b[32m━━━━━━━━━━━━━━━━━━━━\u001b[0m\u001b[37m\u001b[0m \u001b[1m0s\u001b[0m 3ms/step - accuracy: 0.9913 - loss: 0.0254 - val_accuracy: 0.9961 - val_loss: 0.0187\n",
      "Epoch 66/1000\n",
      "\u001b[1m124/146\u001b[0m \u001b[32m━━━━━━━━━━━━━━━━\u001b[0m\u001b[37m━━━━\u001b[0m \u001b[1m0s\u001b[0m 2ms/step - accuracy: 0.9946 - loss: 0.0176\n",
      "Epoch 66: val_loss did not improve from 0.00885\n",
      "\u001b[1m146/146\u001b[0m \u001b[32m━━━━━━━━━━━━━━━━━━━━\u001b[0m\u001b[37m\u001b[0m \u001b[1m0s\u001b[0m 3ms/step - accuracy: 0.9945 - loss: 0.0181 - val_accuracy: 0.9955 - val_loss: 0.0161\n",
      "Epoch 67/1000\n",
      "\u001b[1m146/146\u001b[0m \u001b[32m━━━━━━━━━━━━━━━━━━━━\u001b[0m\u001b[37m\u001b[0m \u001b[1m0s\u001b[0m 2ms/step - accuracy: 0.9963 - loss: 0.0170\n",
      "Epoch 67: val_loss did not improve from 0.00885\n",
      "\u001b[1m146/146\u001b[0m \u001b[32m━━━━━━━━━━━━━━━━━━━━\u001b[0m\u001b[37m\u001b[0m \u001b[1m0s\u001b[0m 3ms/step - accuracy: 0.9963 - loss: 0.0170 - val_accuracy: 0.9987 - val_loss: 0.0101\n",
      "Epoch 68/1000\n",
      "\u001b[1m143/146\u001b[0m \u001b[32m━━━━━━━━━━━━━━━━━━━\u001b[0m\u001b[37m━\u001b[0m \u001b[1m0s\u001b[0m 2ms/step - accuracy: 0.9948 - loss: 0.0152\n",
      "Epoch 68: val_loss did not improve from 0.00885\n",
      "\u001b[1m146/146\u001b[0m \u001b[32m━━━━━━━━━━━━━━━━━━━━\u001b[0m\u001b[37m\u001b[0m \u001b[1m0s\u001b[0m 3ms/step - accuracy: 0.9948 - loss: 0.0154 - val_accuracy: 0.9955 - val_loss: 0.0119\n",
      "Epoch 69/1000\n",
      "\u001b[1m145/146\u001b[0m \u001b[32m━━━━━━━━━━━━━━━━━━━\u001b[0m\u001b[37m━\u001b[0m \u001b[1m0s\u001b[0m 2ms/step - accuracy: 0.9915 - loss: 0.0178\n",
      "Epoch 69: val_loss did not improve from 0.00885\n",
      "\u001b[1m146/146\u001b[0m \u001b[32m━━━━━━━━━━━━━━━━━━━━\u001b[0m\u001b[37m\u001b[0m \u001b[1m0s\u001b[0m 3ms/step - accuracy: 0.9915 - loss: 0.0178 - val_accuracy: 0.9955 - val_loss: 0.0108\n",
      "Epoch 70/1000\n",
      "\u001b[1m126/146\u001b[0m \u001b[32m━━━━━━━━━━━━━━━━━\u001b[0m\u001b[37m━━━\u001b[0m \u001b[1m0s\u001b[0m 2ms/step - accuracy: 0.9912 - loss: 0.0247\n",
      "Epoch 70: val_loss did not improve from 0.00885\n",
      "\u001b[1m146/146\u001b[0m \u001b[32m━━━━━━━━━━━━━━━━━━━━\u001b[0m\u001b[37m\u001b[0m \u001b[1m0s\u001b[0m 3ms/step - accuracy: 0.9913 - loss: 0.0249 - val_accuracy: 0.9968 - val_loss: 0.0134\n",
      "Epoch 71/1000\n",
      "\u001b[1m127/146\u001b[0m \u001b[32m━━━━━━━━━━━━━━━━━\u001b[0m\u001b[37m━━━\u001b[0m \u001b[1m0s\u001b[0m 2ms/step - accuracy: 0.9944 - loss: 0.0216\n",
      "Epoch 71: val_loss did not improve from 0.00885\n",
      "\u001b[1m146/146\u001b[0m \u001b[32m━━━━━━━━━━━━━━━━━━━━\u001b[0m\u001b[37m\u001b[0m \u001b[1m0s\u001b[0m 3ms/step - accuracy: 0.9942 - loss: 0.0216 - val_accuracy: 0.9974 - val_loss: 0.0159\n",
      "Epoch 72/1000\n",
      "\u001b[1m125/146\u001b[0m \u001b[32m━━━━━━━━━━━━━━━━━\u001b[0m\u001b[37m━━━\u001b[0m \u001b[1m0s\u001b[0m 2ms/step - accuracy: 0.9937 - loss: 0.0229\n",
      "Epoch 72: val_loss improved from 0.00885 to 0.00748, saving model to /content/drive/MyDrive/Telecom Paris/projet robotique mobile/Project/data/keypoint_classifier.keras\n",
      "\u001b[1m146/146\u001b[0m \u001b[32m━━━━━━━━━━━━━━━━━━━━\u001b[0m\u001b[37m\u001b[0m \u001b[1m1s\u001b[0m 3ms/step - accuracy: 0.9936 - loss: 0.0233 - val_accuracy: 0.9987 - val_loss: 0.0075\n",
      "Epoch 73/1000\n",
      "\u001b[1m126/146\u001b[0m \u001b[32m━━━━━━━━━━━━━━━━━\u001b[0m\u001b[37m━━━\u001b[0m \u001b[1m0s\u001b[0m 2ms/step - accuracy: 0.9940 - loss: 0.0161\n",
      "Epoch 73: val_loss did not improve from 0.00748\n",
      "\u001b[1m146/146\u001b[0m \u001b[32m━━━━━━━━━━━━━━━━━━━━\u001b[0m\u001b[37m\u001b[0m \u001b[1m0s\u001b[0m 3ms/step - accuracy: 0.9941 - loss: 0.0163 - val_accuracy: 0.9974 - val_loss: 0.0099\n",
      "Epoch 74/1000\n",
      "\u001b[1m124/146\u001b[0m \u001b[32m━━━━━━━━━━━━━━━━\u001b[0m\u001b[37m━━━━\u001b[0m \u001b[1m0s\u001b[0m 2ms/step - accuracy: 0.9915 - loss: 0.0238\n",
      "Epoch 74: val_loss did not improve from 0.00748\n",
      "\u001b[1m146/146\u001b[0m \u001b[32m━━━━━━━━━━━━━━━━━━━━\u001b[0m\u001b[37m\u001b[0m \u001b[1m0s\u001b[0m 3ms/step - accuracy: 0.9916 - loss: 0.0239 - val_accuracy: 0.9961 - val_loss: 0.0157\n",
      "Epoch 75/1000\n",
      "\u001b[1m126/146\u001b[0m \u001b[32m━━━━━━━━━━━━━━━━━\u001b[0m\u001b[37m━━━\u001b[0m \u001b[1m0s\u001b[0m 2ms/step - accuracy: 0.9932 - loss: 0.0191\n",
      "Epoch 75: val_loss did not improve from 0.00748\n",
      "\u001b[1m146/146\u001b[0m \u001b[32m━━━━━━━━━━━━━━━━━━━━\u001b[0m\u001b[37m\u001b[0m \u001b[1m0s\u001b[0m 3ms/step - accuracy: 0.9932 - loss: 0.0192 - val_accuracy: 0.9981 - val_loss: 0.0103\n",
      "Epoch 76/1000\n",
      "\u001b[1m127/146\u001b[0m \u001b[32m━━━━━━━━━━━━━━━━━\u001b[0m\u001b[37m━━━\u001b[0m \u001b[1m0s\u001b[0m 2ms/step - accuracy: 0.9926 - loss: 0.0198\n",
      "Epoch 76: val_loss did not improve from 0.00748\n",
      "\u001b[1m146/146\u001b[0m \u001b[32m━━━━━━━━━━━━━━━━━━━━\u001b[0m\u001b[37m\u001b[0m \u001b[1m0s\u001b[0m 3ms/step - accuracy: 0.9925 - loss: 0.0199 - val_accuracy: 0.9974 - val_loss: 0.0127\n",
      "Epoch 77/1000\n",
      "\u001b[1m124/146\u001b[0m \u001b[32m━━━━━━━━━━━━━━━━\u001b[0m\u001b[37m━━━━\u001b[0m \u001b[1m0s\u001b[0m 2ms/step - accuracy: 0.9950 - loss: 0.0139\n",
      "Epoch 77: val_loss did not improve from 0.00748\n",
      "\u001b[1m146/146\u001b[0m \u001b[32m━━━━━━━━━━━━━━━━━━━━\u001b[0m\u001b[37m\u001b[0m \u001b[1m0s\u001b[0m 3ms/step - accuracy: 0.9948 - loss: 0.0145 - val_accuracy: 0.9961 - val_loss: 0.0201\n",
      "Epoch 78/1000\n",
      "\u001b[1m129/146\u001b[0m \u001b[32m━━━━━━━━━━━━━━━━━\u001b[0m\u001b[37m━━━\u001b[0m \u001b[1m0s\u001b[0m 2ms/step - accuracy: 0.9925 - loss: 0.0271\n",
      "Epoch 78: val_loss did not improve from 0.00748\n",
      "\u001b[1m146/146\u001b[0m \u001b[32m━━━━━━━━━━━━━━━━━━━━\u001b[0m\u001b[37m\u001b[0m \u001b[1m0s\u001b[0m 3ms/step - accuracy: 0.9923 - loss: 0.0269 - val_accuracy: 0.9981 - val_loss: 0.0119\n",
      "Epoch 79/1000\n",
      "\u001b[1m127/146\u001b[0m \u001b[32m━━━━━━━━━━━━━━━━━\u001b[0m\u001b[37m━━━\u001b[0m \u001b[1m0s\u001b[0m 2ms/step - accuracy: 0.9940 - loss: 0.0181\n",
      "Epoch 79: val_loss did not improve from 0.00748\n",
      "\u001b[1m146/146\u001b[0m \u001b[32m━━━━━━━━━━━━━━━━━━━━\u001b[0m\u001b[37m\u001b[0m \u001b[1m0s\u001b[0m 3ms/step - accuracy: 0.9941 - loss: 0.0180 - val_accuracy: 0.9974 - val_loss: 0.0145\n",
      "Epoch 80/1000\n",
      "\u001b[1m124/146\u001b[0m \u001b[32m━━━━━━━━━━━━━━━━\u001b[0m\u001b[37m━━━━\u001b[0m \u001b[1m0s\u001b[0m 2ms/step - accuracy: 0.9950 - loss: 0.0180\n",
      "Epoch 80: val_loss did not improve from 0.00748\n",
      "\u001b[1m146/146\u001b[0m \u001b[32m━━━━━━━━━━━━━━━━━━━━\u001b[0m\u001b[37m\u001b[0m \u001b[1m0s\u001b[0m 3ms/step - accuracy: 0.9949 - loss: 0.0182 - val_accuracy: 0.9974 - val_loss: 0.0162\n",
      "Epoch 81/1000\n",
      "\u001b[1m127/146\u001b[0m \u001b[32m━━━━━━━━━━━━━━━━━\u001b[0m\u001b[37m━━━\u001b[0m \u001b[1m0s\u001b[0m 2ms/step - accuracy: 0.9940 - loss: 0.0182\n",
      "Epoch 81: val_loss did not improve from 0.00748\n",
      "\u001b[1m146/146\u001b[0m \u001b[32m━━━━━━━━━━━━━━━━━━━━\u001b[0m\u001b[37m\u001b[0m \u001b[1m0s\u001b[0m 3ms/step - accuracy: 0.9941 - loss: 0.0181 - val_accuracy: 0.9974 - val_loss: 0.0084\n",
      "Epoch 82/1000\n",
      "\u001b[1m125/146\u001b[0m \u001b[32m━━━━━━━━━━━━━━━━━\u001b[0m\u001b[37m━━━\u001b[0m \u001b[1m0s\u001b[0m 2ms/step - accuracy: 0.9947 - loss: 0.0189\n",
      "Epoch 82: val_loss did not improve from 0.00748\n",
      "\u001b[1m146/146\u001b[0m \u001b[32m━━━━━━━━━━━━━━━━━━━━\u001b[0m\u001b[37m\u001b[0m \u001b[1m0s\u001b[0m 3ms/step - accuracy: 0.9947 - loss: 0.0189 - val_accuracy: 0.9968 - val_loss: 0.0132\n",
      "Epoch 83/1000\n",
      "\u001b[1m146/146\u001b[0m \u001b[32m━━━━━━━━━━━━━━━━━━━━\u001b[0m\u001b[37m\u001b[0m \u001b[1m0s\u001b[0m 2ms/step - accuracy: 0.9931 - loss: 0.0241\n",
      "Epoch 83: val_loss improved from 0.00748 to 0.00483, saving model to /content/drive/MyDrive/Telecom Paris/projet robotique mobile/Project/data/keypoint_classifier.keras\n",
      "\u001b[1m146/146\u001b[0m \u001b[32m━━━━━━━━━━━━━━━━━━━━\u001b[0m\u001b[37m\u001b[0m \u001b[1m1s\u001b[0m 3ms/step - accuracy: 0.9931 - loss: 0.0241 - val_accuracy: 0.9974 - val_loss: 0.0048\n",
      "Epoch 84/1000\n",
      "\u001b[1m126/146\u001b[0m \u001b[32m━━━━━━━━━━━━━━━━━\u001b[0m\u001b[37m━━━\u001b[0m \u001b[1m0s\u001b[0m 2ms/step - accuracy: 0.9940 - loss: 0.0224\n",
      "Epoch 84: val_loss did not improve from 0.00483\n",
      "\u001b[1m146/146\u001b[0m \u001b[32m━━━━━━━━━━━━━━━━━━━━\u001b[0m\u001b[37m\u001b[0m \u001b[1m0s\u001b[0m 3ms/step - accuracy: 0.9939 - loss: 0.0221 - val_accuracy: 0.9987 - val_loss: 0.0066\n",
      "Epoch 85/1000\n",
      "\u001b[1m125/146\u001b[0m \u001b[32m━━━━━━━━━━━━━━━━━\u001b[0m\u001b[37m━━━\u001b[0m \u001b[1m0s\u001b[0m 2ms/step - accuracy: 0.9965 - loss: 0.0105\n",
      "Epoch 85: val_loss did not improve from 0.00483\n",
      "\u001b[1m146/146\u001b[0m \u001b[32m━━━━━━━━━━━━━━━━━━━━\u001b[0m\u001b[37m\u001b[0m \u001b[1m0s\u001b[0m 3ms/step - accuracy: 0.9964 - loss: 0.0110 - val_accuracy: 0.9981 - val_loss: 0.0097\n",
      "Epoch 86/1000\n",
      "\u001b[1m123/146\u001b[0m \u001b[32m━━━━━━━━━━━━━━━━\u001b[0m\u001b[37m━━━━\u001b[0m \u001b[1m0s\u001b[0m 2ms/step - accuracy: 0.9930 - loss: 0.0232\n",
      "Epoch 86: val_loss did not improve from 0.00483\n",
      "\u001b[1m146/146\u001b[0m \u001b[32m━━━━━━━━━━━━━━━━━━━━\u001b[0m\u001b[37m\u001b[0m \u001b[1m0s\u001b[0m 3ms/step - accuracy: 0.9929 - loss: 0.0232 - val_accuracy: 0.9987 - val_loss: 0.0088\n",
      "Epoch 87/1000\n",
      "\u001b[1m123/146\u001b[0m \u001b[32m━━━━━━━━━━━━━━━━\u001b[0m\u001b[37m━━━━\u001b[0m \u001b[1m0s\u001b[0m 2ms/step - accuracy: 0.9963 - loss: 0.0130\n",
      "Epoch 87: val_loss did not improve from 0.00483\n",
      "\u001b[1m146/146\u001b[0m \u001b[32m━━━━━━━━━━━━━━━━━━━━\u001b[0m\u001b[37m\u001b[0m \u001b[1m0s\u001b[0m 3ms/step - accuracy: 0.9961 - loss: 0.0136 - val_accuracy: 0.9987 - val_loss: 0.0062\n",
      "Epoch 88/1000\n",
      "\u001b[1m127/146\u001b[0m \u001b[32m━━━━━━━━━━━━━━━━━\u001b[0m\u001b[37m━━━\u001b[0m \u001b[1m0s\u001b[0m 2ms/step - accuracy: 0.9945 - loss: 0.0174\n",
      "Epoch 88: val_loss did not improve from 0.00483\n",
      "\u001b[1m146/146\u001b[0m \u001b[32m━━━━━━━━━━━━━━━━━━━━\u001b[0m\u001b[37m\u001b[0m \u001b[1m0s\u001b[0m 3ms/step - accuracy: 0.9943 - loss: 0.0181 - val_accuracy: 0.9974 - val_loss: 0.0165\n",
      "Epoch 89/1000\n",
      "\u001b[1m126/146\u001b[0m \u001b[32m━━━━━━━━━━━━━━━━━\u001b[0m\u001b[37m━━━\u001b[0m \u001b[1m0s\u001b[0m 2ms/step - accuracy: 0.9946 - loss: 0.0176\n",
      "Epoch 89: val_loss did not improve from 0.00483\n",
      "\u001b[1m146/146\u001b[0m \u001b[32m━━━━━━━━━━━━━━━━━━━━\u001b[0m\u001b[37m\u001b[0m \u001b[1m0s\u001b[0m 3ms/step - accuracy: 0.9947 - loss: 0.0174 - val_accuracy: 0.9981 - val_loss: 0.0087\n",
      "Epoch 90/1000\n",
      "\u001b[1m127/146\u001b[0m \u001b[32m━━━━━━━━━━━━━━━━━\u001b[0m\u001b[37m━━━\u001b[0m \u001b[1m0s\u001b[0m 2ms/step - accuracy: 0.9948 - loss: 0.0151\n",
      "Epoch 90: val_loss did not improve from 0.00483\n",
      "\u001b[1m146/146\u001b[0m \u001b[32m━━━━━━━━━━━━━━━━━━━━\u001b[0m\u001b[37m\u001b[0m \u001b[1m0s\u001b[0m 3ms/step - accuracy: 0.9949 - loss: 0.0152 - val_accuracy: 0.9994 - val_loss: 0.0084\n",
      "Epoch 91/1000\n",
      "\u001b[1m127/146\u001b[0m \u001b[32m━━━━━━━━━━━━━━━━━\u001b[0m\u001b[37m━━━\u001b[0m \u001b[1m0s\u001b[0m 2ms/step - accuracy: 0.9958 - loss: 0.0147\n",
      "Epoch 91: val_loss did not improve from 0.00483\n",
      "\u001b[1m146/146\u001b[0m \u001b[32m━━━━━━━━━━━━━━━━━━━━\u001b[0m\u001b[37m\u001b[0m \u001b[1m0s\u001b[0m 3ms/step - accuracy: 0.9958 - loss: 0.0146 - val_accuracy: 0.9981 - val_loss: 0.0071\n",
      "Epoch 92/1000\n",
      "\u001b[1m146/146\u001b[0m \u001b[32m━━━━━━━━━━━━━━━━━━━━\u001b[0m\u001b[37m\u001b[0m \u001b[1m0s\u001b[0m 2ms/step - accuracy: 0.9970 - loss: 0.0134\n",
      "Epoch 92: val_loss did not improve from 0.00483\n",
      "\u001b[1m146/146\u001b[0m \u001b[32m━━━━━━━━━━━━━━━━━━━━\u001b[0m\u001b[37m\u001b[0m \u001b[1m0s\u001b[0m 3ms/step - accuracy: 0.9969 - loss: 0.0134 - val_accuracy: 0.9987 - val_loss: 0.0084\n",
      "Epoch 93/1000\n",
      "\u001b[1m126/146\u001b[0m \u001b[32m━━━━━━━━━━━━━━━━━\u001b[0m\u001b[37m━━━\u001b[0m \u001b[1m0s\u001b[0m 2ms/step - accuracy: 0.9949 - loss: 0.0170\n",
      "Epoch 93: val_loss did not improve from 0.00483\n",
      "\u001b[1m146/146\u001b[0m \u001b[32m━━━━━━━━━━━━━━━━━━━━\u001b[0m\u001b[37m\u001b[0m \u001b[1m0s\u001b[0m 3ms/step - accuracy: 0.9949 - loss: 0.0171 - val_accuracy: 0.9974 - val_loss: 0.0134\n",
      "Epoch 94/1000\n",
      "\u001b[1m145/146\u001b[0m \u001b[32m━━━━━━━━━━━━━━━━━━━\u001b[0m\u001b[37m━\u001b[0m \u001b[1m0s\u001b[0m 2ms/step - accuracy: 0.9937 - loss: 0.0172\n",
      "Epoch 94: val_loss did not improve from 0.00483\n",
      "\u001b[1m146/146\u001b[0m \u001b[32m━━━━━━━━━━━━━━━━━━━━\u001b[0m\u001b[37m\u001b[0m \u001b[1m1s\u001b[0m 3ms/step - accuracy: 0.9937 - loss: 0.0172 - val_accuracy: 0.9968 - val_loss: 0.0104\n",
      "Epoch 95/1000\n",
      "\u001b[1m124/146\u001b[0m \u001b[32m━━━━━━━━━━━━━━━━\u001b[0m\u001b[37m━━━━\u001b[0m \u001b[1m0s\u001b[0m 2ms/step - accuracy: 0.9926 - loss: 0.0222\n",
      "Epoch 95: val_loss did not improve from 0.00483\n",
      "\u001b[1m146/146\u001b[0m \u001b[32m━━━━━━━━━━━━━━━━━━━━\u001b[0m\u001b[37m\u001b[0m \u001b[1m0s\u001b[0m 3ms/step - accuracy: 0.9928 - loss: 0.0216 - val_accuracy: 0.9994 - val_loss: 0.0058\n",
      "Epoch 96/1000\n",
      "\u001b[1m126/146\u001b[0m \u001b[32m━━━━━━━━━━━━━━━━━\u001b[0m\u001b[37m━━━\u001b[0m \u001b[1m0s\u001b[0m 2ms/step - accuracy: 0.9974 - loss: 0.0081\n",
      "Epoch 96: val_loss did not improve from 0.00483\n",
      "\u001b[1m146/146\u001b[0m \u001b[32m━━━━━━━━━━━━━━━━━━━━\u001b[0m\u001b[37m\u001b[0m \u001b[1m0s\u001b[0m 3ms/step - accuracy: 0.9973 - loss: 0.0085 - val_accuracy: 0.9987 - val_loss: 0.0057\n",
      "Epoch 97/1000\n",
      "\u001b[1m129/146\u001b[0m \u001b[32m━━━━━━━━━━━━━━━━━\u001b[0m\u001b[37m━━━\u001b[0m \u001b[1m0s\u001b[0m 2ms/step - accuracy: 0.9943 - loss: 0.0164\n",
      "Epoch 97: val_loss did not improve from 0.00483\n",
      "\u001b[1m146/146\u001b[0m \u001b[32m━━━━━━━━━━━━━━━━━━━━\u001b[0m\u001b[37m\u001b[0m \u001b[1m0s\u001b[0m 3ms/step - accuracy: 0.9943 - loss: 0.0166 - val_accuracy: 0.9935 - val_loss: 0.0191\n",
      "Epoch 98/1000\n",
      "\u001b[1m125/146\u001b[0m \u001b[32m━━━━━━━━━━━━━━━━━\u001b[0m\u001b[37m━━━\u001b[0m \u001b[1m0s\u001b[0m 2ms/step - accuracy: 0.9916 - loss: 0.0252\n",
      "Epoch 98: val_loss did not improve from 0.00483\n",
      "\u001b[1m146/146\u001b[0m \u001b[32m━━━━━━━━━━━━━━━━━━━━\u001b[0m\u001b[37m\u001b[0m \u001b[1m0s\u001b[0m 3ms/step - accuracy: 0.9917 - loss: 0.0249 - val_accuracy: 0.9981 - val_loss: 0.0102\n",
      "Epoch 99/1000\n",
      "\u001b[1m129/146\u001b[0m \u001b[32m━━━━━━━━━━━━━━━━━\u001b[0m\u001b[37m━━━\u001b[0m \u001b[1m0s\u001b[0m 2ms/step - accuracy: 0.9943 - loss: 0.0170\n",
      "Epoch 99: val_loss did not improve from 0.00483\n",
      "\u001b[1m146/146\u001b[0m \u001b[32m━━━━━━━━━━━━━━━━━━━━\u001b[0m\u001b[37m\u001b[0m \u001b[1m0s\u001b[0m 3ms/step - accuracy: 0.9944 - loss: 0.0168 - val_accuracy: 0.9987 - val_loss: 0.0108\n",
      "Epoch 100/1000\n",
      "\u001b[1m126/146\u001b[0m \u001b[32m━━━━━━━━━━━━━━━━━\u001b[0m\u001b[37m━━━\u001b[0m \u001b[1m0s\u001b[0m 2ms/step - accuracy: 0.9959 - loss: 0.0110\n",
      "Epoch 100: val_loss improved from 0.00483 to 0.00350, saving model to /content/drive/MyDrive/Telecom Paris/projet robotique mobile/Project/data/keypoint_classifier.keras\n",
      "\u001b[1m146/146\u001b[0m \u001b[32m━━━━━━━━━━━━━━━━━━━━\u001b[0m\u001b[37m\u001b[0m \u001b[1m1s\u001b[0m 3ms/step - accuracy: 0.9955 - loss: 0.0125 - val_accuracy: 0.9994 - val_loss: 0.0035\n",
      "Epoch 101/1000\n",
      "\u001b[1m128/146\u001b[0m \u001b[32m━━━━━━━━━━━━━━━━━\u001b[0m\u001b[37m━━━\u001b[0m \u001b[1m0s\u001b[0m 2ms/step - accuracy: 0.9913 - loss: 0.0229\n",
      "Epoch 101: val_loss did not improve from 0.00350\n",
      "\u001b[1m146/146\u001b[0m \u001b[32m━━━━━━━━━━━━━━━━━━━━\u001b[0m\u001b[37m\u001b[0m \u001b[1m0s\u001b[0m 3ms/step - accuracy: 0.9915 - loss: 0.0226 - val_accuracy: 0.9987 - val_loss: 0.0059\n",
      "Epoch 102/1000\n",
      "\u001b[1m126/146\u001b[0m \u001b[32m━━━━━━━━━━━━━━━━━\u001b[0m\u001b[37m━━━\u001b[0m \u001b[1m0s\u001b[0m 2ms/step - accuracy: 0.9939 - loss: 0.0168\n",
      "Epoch 102: val_loss did not improve from 0.00350\n",
      "\u001b[1m146/146\u001b[0m \u001b[32m━━━━━━━━━━━━━━━━━━━━\u001b[0m\u001b[37m\u001b[0m \u001b[1m0s\u001b[0m 3ms/step - accuracy: 0.9940 - loss: 0.0166 - val_accuracy: 0.9987 - val_loss: 0.0083\n",
      "Epoch 103/1000\n",
      "\u001b[1m128/146\u001b[0m \u001b[32m━━━━━━━━━━━━━━━━━\u001b[0m\u001b[37m━━━\u001b[0m \u001b[1m0s\u001b[0m 2ms/step - accuracy: 0.9953 - loss: 0.0159\n",
      "Epoch 103: val_loss did not improve from 0.00350\n",
      "\u001b[1m146/146\u001b[0m \u001b[32m━━━━━━━━━━━━━━━━━━━━\u001b[0m\u001b[37m\u001b[0m \u001b[1m0s\u001b[0m 3ms/step - accuracy: 0.9954 - loss: 0.0156 - val_accuracy: 0.9987 - val_loss: 0.0096\n",
      "Epoch 104/1000\n",
      "\u001b[1m124/146\u001b[0m \u001b[32m━━━━━━━━━━━━━━━━\u001b[0m\u001b[37m━━━━\u001b[0m \u001b[1m0s\u001b[0m 2ms/step - accuracy: 0.9887 - loss: 0.0273\n",
      "Epoch 104: val_loss did not improve from 0.00350\n",
      "\u001b[1m146/146\u001b[0m \u001b[32m━━━━━━━━━━━━━━━━━━━━\u001b[0m\u001b[37m\u001b[0m \u001b[1m0s\u001b[0m 3ms/step - accuracy: 0.9890 - loss: 0.0274 - val_accuracy: 0.9987 - val_loss: 0.0068\n",
      "Epoch 105/1000\n",
      "\u001b[1m128/146\u001b[0m \u001b[32m━━━━━━━━━━━━━━━━━\u001b[0m\u001b[37m━━━\u001b[0m \u001b[1m0s\u001b[0m 2ms/step - accuracy: 0.9946 - loss: 0.0101\n",
      "Epoch 105: val_loss did not improve from 0.00350\n",
      "\u001b[1m146/146\u001b[0m \u001b[32m━━━━━━━━━━━━━━━━━━━━\u001b[0m\u001b[37m\u001b[0m \u001b[1m0s\u001b[0m 3ms/step - accuracy: 0.9946 - loss: 0.0105 - val_accuracy: 0.9987 - val_loss: 0.0063\n",
      "Epoch 106/1000\n",
      "\u001b[1m126/146\u001b[0m \u001b[32m━━━━━━━━━━━━━━━━━\u001b[0m\u001b[37m━━━\u001b[0m \u001b[1m0s\u001b[0m 2ms/step - accuracy: 0.9940 - loss: 0.0168\n",
      "Epoch 106: val_loss did not improve from 0.00350\n",
      "\u001b[1m146/146\u001b[0m \u001b[32m━━━━━━━━━━━━━━━━━━━━\u001b[0m\u001b[37m\u001b[0m \u001b[1m0s\u001b[0m 3ms/step - accuracy: 0.9942 - loss: 0.0165 - val_accuracy: 0.9981 - val_loss: 0.0093\n",
      "Epoch 107/1000\n",
      "\u001b[1m128/146\u001b[0m \u001b[32m━━━━━━━━━━━━━━━━━\u001b[0m\u001b[37m━━━\u001b[0m \u001b[1m0s\u001b[0m 2ms/step - accuracy: 0.9962 - loss: 0.0133\n",
      "Epoch 107: val_loss did not improve from 0.00350\n",
      "\u001b[1m146/146\u001b[0m \u001b[32m━━━━━━━━━━━━━━━━━━━━\u001b[0m\u001b[37m\u001b[0m \u001b[1m0s\u001b[0m 3ms/step - accuracy: 0.9961 - loss: 0.0134 - val_accuracy: 0.9987 - val_loss: 0.0094\n",
      "Epoch 108/1000\n",
      "\u001b[1m126/146\u001b[0m \u001b[32m━━━━━━━━━━━━━━━━━\u001b[0m\u001b[37m━━━\u001b[0m \u001b[1m0s\u001b[0m 2ms/step - accuracy: 0.9970 - loss: 0.0108\n",
      "Epoch 108: val_loss did not improve from 0.00350\n",
      "\u001b[1m146/146\u001b[0m \u001b[32m━━━━━━━━━━━━━━━━━━━━\u001b[0m\u001b[37m\u001b[0m \u001b[1m0s\u001b[0m 3ms/step - accuracy: 0.9967 - loss: 0.0112 - val_accuracy: 0.9961 - val_loss: 0.0246\n",
      "Epoch 109/1000\n",
      "\u001b[1m125/146\u001b[0m \u001b[32m━━━━━━━━━━━━━━━━━\u001b[0m\u001b[37m━━━\u001b[0m \u001b[1m0s\u001b[0m 2ms/step - accuracy: 0.9942 - loss: 0.0196\n",
      "Epoch 109: val_loss did not improve from 0.00350\n",
      "\u001b[1m146/146\u001b[0m \u001b[32m━━━━━━━━━━━━━━━━━━━━\u001b[0m\u001b[37m\u001b[0m \u001b[1m0s\u001b[0m 3ms/step - accuracy: 0.9942 - loss: 0.0200 - val_accuracy: 0.9981 - val_loss: 0.0126\n",
      "Epoch 110/1000\n",
      "\u001b[1m125/146\u001b[0m \u001b[32m━━━━━━━━━━━━━━━━━\u001b[0m\u001b[37m━━━\u001b[0m \u001b[1m0s\u001b[0m 2ms/step - accuracy: 0.9934 - loss: 0.0237\n",
      "Epoch 110: val_loss did not improve from 0.00350\n",
      "\u001b[1m146/146\u001b[0m \u001b[32m━━━━━━━━━━━━━━━━━━━━\u001b[0m\u001b[37m\u001b[0m \u001b[1m0s\u001b[0m 3ms/step - accuracy: 0.9938 - loss: 0.0229 - val_accuracy: 0.9987 - val_loss: 0.0104\n",
      "Epoch 111/1000\n",
      "\u001b[1m126/146\u001b[0m \u001b[32m━━━━━━━━━━━━━━━━━\u001b[0m\u001b[37m━━━\u001b[0m \u001b[1m0s\u001b[0m 2ms/step - accuracy: 0.9951 - loss: 0.0166\n",
      "Epoch 111: val_loss did not improve from 0.00350\n",
      "\u001b[1m146/146\u001b[0m \u001b[32m━━━━━━━━━━━━━━━━━━━━\u001b[0m\u001b[37m\u001b[0m \u001b[1m0s\u001b[0m 3ms/step - accuracy: 0.9952 - loss: 0.0165 - val_accuracy: 0.9987 - val_loss: 0.0102\n",
      "Epoch 112/1000\n",
      "\u001b[1m127/146\u001b[0m \u001b[32m━━━━━━━━━━━━━━━━━\u001b[0m\u001b[37m━━━\u001b[0m \u001b[1m0s\u001b[0m 2ms/step - accuracy: 0.9976 - loss: 0.0098\n",
      "Epoch 112: val_loss did not improve from 0.00350\n",
      "\u001b[1m146/146\u001b[0m \u001b[32m━━━━━━━━━━━━━━━━━━━━\u001b[0m\u001b[37m\u001b[0m \u001b[1m0s\u001b[0m 3ms/step - accuracy: 0.9975 - loss: 0.0100 - val_accuracy: 0.9987 - val_loss: 0.0106\n",
      "Epoch 113/1000\n",
      "\u001b[1m124/146\u001b[0m \u001b[32m━━━━━━━━━━━━━━━━\u001b[0m\u001b[37m━━━━\u001b[0m \u001b[1m0s\u001b[0m 2ms/step - accuracy: 0.9942 - loss: 0.0214\n",
      "Epoch 113: val_loss did not improve from 0.00350\n",
      "\u001b[1m146/146\u001b[0m \u001b[32m━━━━━━━━━━━━━━━━━━━━\u001b[0m\u001b[37m\u001b[0m \u001b[1m0s\u001b[0m 3ms/step - accuracy: 0.9945 - loss: 0.0202 - val_accuracy: 0.9987 - val_loss: 0.0088\n",
      "Epoch 114/1000\n",
      "\u001b[1m125/146\u001b[0m \u001b[32m━━━━━━━━━━━━━━━━━\u001b[0m\u001b[37m━━━\u001b[0m \u001b[1m0s\u001b[0m 2ms/step - accuracy: 0.9963 - loss: 0.0142\n",
      "Epoch 114: val_loss did not improve from 0.00350\n",
      "\u001b[1m146/146\u001b[0m \u001b[32m━━━━━━━━━━━━━━━━━━━━\u001b[0m\u001b[37m\u001b[0m \u001b[1m0s\u001b[0m 3ms/step - accuracy: 0.9961 - loss: 0.0146 - val_accuracy: 0.9981 - val_loss: 0.0129\n",
      "Epoch 115/1000\n",
      "\u001b[1m128/146\u001b[0m \u001b[32m━━━━━━━━━━━━━━━━━\u001b[0m\u001b[37m━━━\u001b[0m \u001b[1m0s\u001b[0m 2ms/step - accuracy: 0.9950 - loss: 0.0144\n",
      "Epoch 115: val_loss did not improve from 0.00350\n",
      "\u001b[1m146/146\u001b[0m \u001b[32m━━━━━━━━━━━━━━━━━━━━\u001b[0m\u001b[37m\u001b[0m \u001b[1m0s\u001b[0m 3ms/step - accuracy: 0.9949 - loss: 0.0148 - val_accuracy: 0.9987 - val_loss: 0.0103\n",
      "Epoch 116/1000\n",
      "\u001b[1m143/146\u001b[0m \u001b[32m━━━━━━━━━━━━━━━━━━━\u001b[0m\u001b[37m━\u001b[0m \u001b[1m0s\u001b[0m 2ms/step - accuracy: 0.9928 - loss: 0.0192\n",
      "Epoch 116: val_loss did not improve from 0.00350\n",
      "\u001b[1m146/146\u001b[0m \u001b[32m━━━━━━━━━━━━━━━━━━━━\u001b[0m\u001b[37m\u001b[0m \u001b[1m0s\u001b[0m 3ms/step - accuracy: 0.9929 - loss: 0.0191 - val_accuracy: 0.9981 - val_loss: 0.0144\n",
      "Epoch 117/1000\n",
      "\u001b[1m124/146\u001b[0m \u001b[32m━━━━━━━━━━━━━━━━\u001b[0m\u001b[37m━━━━\u001b[0m \u001b[1m0s\u001b[0m 2ms/step - accuracy: 0.9928 - loss: 0.0171\n",
      "Epoch 117: val_loss did not improve from 0.00350\n",
      "\u001b[1m146/146\u001b[0m \u001b[32m━━━━━━━━━━━━━━━━━━━━\u001b[0m\u001b[37m\u001b[0m \u001b[1m0s\u001b[0m 3ms/step - accuracy: 0.9931 - loss: 0.0169 - val_accuracy: 0.9987 - val_loss: 0.0070\n",
      "Epoch 118/1000\n",
      "\u001b[1m142/146\u001b[0m \u001b[32m━━━━━━━━━━━━━━━━━━━\u001b[0m\u001b[37m━\u001b[0m \u001b[1m0s\u001b[0m 2ms/step - accuracy: 0.9969 - loss: 0.0101\n",
      "Epoch 118: val_loss did not improve from 0.00350\n",
      "\u001b[1m146/146\u001b[0m \u001b[32m━━━━━━━━━━━━━━━━━━━━\u001b[0m\u001b[37m\u001b[0m \u001b[1m0s\u001b[0m 3ms/step - accuracy: 0.9969 - loss: 0.0103 - val_accuracy: 0.9987 - val_loss: 0.0108\n",
      "Epoch 119/1000\n",
      "\u001b[1m144/146\u001b[0m \u001b[32m━━━━━━━━━━━━━━━━━━━\u001b[0m\u001b[37m━\u001b[0m \u001b[1m0s\u001b[0m 2ms/step - accuracy: 0.9970 - loss: 0.0105\n",
      "Epoch 119: val_loss did not improve from 0.00350\n",
      "\u001b[1m146/146\u001b[0m \u001b[32m━━━━━━━━━━━━━━━━━━━━\u001b[0m\u001b[37m\u001b[0m \u001b[1m0s\u001b[0m 3ms/step - accuracy: 0.9970 - loss: 0.0106 - val_accuracy: 0.9981 - val_loss: 0.0123\n",
      "Epoch 120/1000\n",
      "\u001b[1m123/146\u001b[0m \u001b[32m━━━━━━━━━━━━━━━━\u001b[0m\u001b[37m━━━━\u001b[0m \u001b[1m0s\u001b[0m 2ms/step - accuracy: 0.9943 - loss: 0.0153\n",
      "Epoch 120: val_loss did not improve from 0.00350\n",
      "\u001b[1m146/146\u001b[0m \u001b[32m━━━━━━━━━━━━━━━━━━━━\u001b[0m\u001b[37m\u001b[0m \u001b[1m0s\u001b[0m 3ms/step - accuracy: 0.9944 - loss: 0.0154 - val_accuracy: 0.9987 - val_loss: 0.0115\n",
      "Epoch 121/1000\n",
      "\u001b[1m128/146\u001b[0m \u001b[32m━━━━━━━━━━━━━━━━━\u001b[0m\u001b[37m━━━\u001b[0m \u001b[1m0s\u001b[0m 2ms/step - accuracy: 0.9930 - loss: 0.0189\n",
      "Epoch 121: val_loss did not improve from 0.00350\n",
      "\u001b[1m146/146\u001b[0m \u001b[32m━━━━━━━━━━━━━━━━━━━━\u001b[0m\u001b[37m\u001b[0m \u001b[1m0s\u001b[0m 3ms/step - accuracy: 0.9930 - loss: 0.0188 - val_accuracy: 0.9994 - val_loss: 0.0073\n",
      "Epoch 122/1000\n",
      "\u001b[1m129/146\u001b[0m \u001b[32m━━━━━━━━━━━━━━━━━\u001b[0m\u001b[37m━━━\u001b[0m \u001b[1m0s\u001b[0m 2ms/step - accuracy: 0.9968 - loss: 0.0111\n",
      "Epoch 122: val_loss did not improve from 0.00350\n",
      "\u001b[1m146/146\u001b[0m \u001b[32m━━━━━━━━━━━━━━━━━━━━\u001b[0m\u001b[37m\u001b[0m \u001b[1m0s\u001b[0m 3ms/step - accuracy: 0.9967 - loss: 0.0116 - val_accuracy: 0.9981 - val_loss: 0.0089\n",
      "Epoch 123/1000\n",
      "\u001b[1m128/146\u001b[0m \u001b[32m━━━━━━━━━━━━━━━━━\u001b[0m\u001b[37m━━━\u001b[0m \u001b[1m0s\u001b[0m 2ms/step - accuracy: 0.9941 - loss: 0.0202\n",
      "Epoch 123: val_loss did not improve from 0.00350\n",
      "\u001b[1m146/146\u001b[0m \u001b[32m━━━━━━━━━━━━━━━━━━━━\u001b[0m\u001b[37m\u001b[0m \u001b[1m0s\u001b[0m 3ms/step - accuracy: 0.9941 - loss: 0.0198 - val_accuracy: 0.9981 - val_loss: 0.0107\n",
      "Epoch 124/1000\n",
      "\u001b[1m126/146\u001b[0m \u001b[32m━━━━━━━━━━━━━━━━━\u001b[0m\u001b[37m━━━\u001b[0m \u001b[1m0s\u001b[0m 2ms/step - accuracy: 0.9946 - loss: 0.0207\n",
      "Epoch 124: val_loss did not improve from 0.00350\n",
      "\u001b[1m146/146\u001b[0m \u001b[32m━━━━━━━━━━━━━━━━━━━━\u001b[0m\u001b[37m\u001b[0m \u001b[1m0s\u001b[0m 3ms/step - accuracy: 0.9945 - loss: 0.0206 - val_accuracy: 0.9968 - val_loss: 0.0135\n",
      "Epoch 125/1000\n",
      "\u001b[1m125/146\u001b[0m \u001b[32m━━━━━━━━━━━━━━━━━\u001b[0m\u001b[37m━━━\u001b[0m \u001b[1m0s\u001b[0m 2ms/step - accuracy: 0.9961 - loss: 0.0106\n",
      "Epoch 125: val_loss did not improve from 0.00350\n",
      "\u001b[1m146/146\u001b[0m \u001b[32m━━━━━━━━━━━━━━━━━━━━\u001b[0m\u001b[37m\u001b[0m \u001b[1m0s\u001b[0m 3ms/step - accuracy: 0.9959 - loss: 0.0112 - val_accuracy: 0.9987 - val_loss: 0.0095\n",
      "Epoch 126/1000\n",
      "\u001b[1m127/146\u001b[0m \u001b[32m━━━━━━━━━━━━━━━━━\u001b[0m\u001b[37m━━━\u001b[0m \u001b[1m0s\u001b[0m 2ms/step - accuracy: 0.9951 - loss: 0.0175\n",
      "Epoch 126: val_loss did not improve from 0.00350\n",
      "\u001b[1m146/146\u001b[0m \u001b[32m━━━━━━━━━━━━━━━━━━━━\u001b[0m\u001b[37m\u001b[0m \u001b[1m0s\u001b[0m 3ms/step - accuracy: 0.9952 - loss: 0.0170 - val_accuracy: 0.9987 - val_loss: 0.0105\n",
      "Epoch 127/1000\n",
      "\u001b[1m126/146\u001b[0m \u001b[32m━━━━━━━━━━━━━━━━━\u001b[0m\u001b[37m━━━\u001b[0m \u001b[1m0s\u001b[0m 2ms/step - accuracy: 0.9959 - loss: 0.0120\n",
      "Epoch 127: val_loss did not improve from 0.00350\n",
      "\u001b[1m146/146\u001b[0m \u001b[32m━━━━━━━━━━━━━━━━━━━━\u001b[0m\u001b[37m\u001b[0m \u001b[1m0s\u001b[0m 3ms/step - accuracy: 0.9960 - loss: 0.0120 - val_accuracy: 0.9994 - val_loss: 0.0038\n",
      "Epoch 128/1000\n",
      "\u001b[1m128/146\u001b[0m \u001b[32m━━━━━━━━━━━━━━━━━\u001b[0m\u001b[37m━━━\u001b[0m \u001b[1m0s\u001b[0m 2ms/step - accuracy: 0.9958 - loss: 0.0124\n",
      "Epoch 128: val_loss did not improve from 0.00350\n",
      "\u001b[1m146/146\u001b[0m \u001b[32m━━━━━━━━━━━━━━━━━━━━\u001b[0m\u001b[37m\u001b[0m \u001b[1m0s\u001b[0m 3ms/step - accuracy: 0.9958 - loss: 0.0124 - val_accuracy: 0.9994 - val_loss: 0.0076\n",
      "Epoch 129/1000\n",
      "\u001b[1m126/146\u001b[0m \u001b[32m━━━━━━━━━━━━━━━━━\u001b[0m\u001b[37m━━━\u001b[0m \u001b[1m0s\u001b[0m 2ms/step - accuracy: 0.9956 - loss: 0.0156\n",
      "Epoch 129: val_loss did not improve from 0.00350\n",
      "\u001b[1m146/146\u001b[0m \u001b[32m━━━━━━━━━━━━━━━━━━━━\u001b[0m\u001b[37m\u001b[0m \u001b[1m0s\u001b[0m 3ms/step - accuracy: 0.9959 - loss: 0.0147 - val_accuracy: 0.9981 - val_loss: 0.0056\n",
      "Epoch 130/1000\n",
      "\u001b[1m146/146\u001b[0m \u001b[32m━━━━━━━━━━━━━━━━━━━━\u001b[0m\u001b[37m\u001b[0m \u001b[1m0s\u001b[0m 2ms/step - accuracy: 0.9956 - loss: 0.0145\n",
      "Epoch 130: val_loss did not improve from 0.00350\n",
      "\u001b[1m146/146\u001b[0m \u001b[32m━━━━━━━━━━━━━━━━━━━━\u001b[0m\u001b[37m\u001b[0m \u001b[1m0s\u001b[0m 3ms/step - accuracy: 0.9956 - loss: 0.0145 - val_accuracy: 0.9981 - val_loss: 0.0065\n",
      "Epoch 131/1000\n",
      "\u001b[1m127/146\u001b[0m \u001b[32m━━━━━━━━━━━━━━━━━\u001b[0m\u001b[37m━━━\u001b[0m \u001b[1m0s\u001b[0m 2ms/step - accuracy: 0.9952 - loss: 0.0165\n",
      "Epoch 131: val_loss did not improve from 0.00350\n",
      "\u001b[1m146/146\u001b[0m \u001b[32m━━━━━━━━━━━━━━━━━━━━\u001b[0m\u001b[37m\u001b[0m \u001b[1m0s\u001b[0m 3ms/step - accuracy: 0.9950 - loss: 0.0172 - val_accuracy: 0.9987 - val_loss: 0.0098\n",
      "Epoch 132/1000\n",
      "\u001b[1m126/146\u001b[0m \u001b[32m━━━━━━━━━━━━━━━━━\u001b[0m\u001b[37m━━━\u001b[0m \u001b[1m0s\u001b[0m 2ms/step - accuracy: 0.9963 - loss: 0.0105\n",
      "Epoch 132: val_loss did not improve from 0.00350\n",
      "\u001b[1m146/146\u001b[0m \u001b[32m━━━━━━━━━━━━━━━━━━━━\u001b[0m\u001b[37m\u001b[0m \u001b[1m0s\u001b[0m 3ms/step - accuracy: 0.9965 - loss: 0.0105 - val_accuracy: 0.9994 - val_loss: 0.0070\n",
      "Epoch 133/1000\n",
      "\u001b[1m127/146\u001b[0m \u001b[32m━━━━━━━━━━━━━━━━━\u001b[0m\u001b[37m━━━\u001b[0m \u001b[1m0s\u001b[0m 2ms/step - accuracy: 0.9941 - loss: 0.0164\n",
      "Epoch 133: val_loss did not improve from 0.00350\n",
      "\u001b[1m146/146\u001b[0m \u001b[32m━━━━━━━━━━━━━━━━━━━━\u001b[0m\u001b[37m\u001b[0m \u001b[1m0s\u001b[0m 3ms/step - accuracy: 0.9941 - loss: 0.0169 - val_accuracy: 0.9981 - val_loss: 0.0140\n",
      "Epoch 134/1000\n",
      "\u001b[1m129/146\u001b[0m \u001b[32m━━━━━━━━━━━━━━━━━\u001b[0m\u001b[37m━━━\u001b[0m \u001b[1m0s\u001b[0m 2ms/step - accuracy: 0.9959 - loss: 0.0148\n",
      "Epoch 134: val_loss did not improve from 0.00350\n",
      "\u001b[1m146/146\u001b[0m \u001b[32m━━━━━━━━━━━━━━━━━━━━\u001b[0m\u001b[37m\u001b[0m \u001b[1m0s\u001b[0m 3ms/step - accuracy: 0.9958 - loss: 0.0152 - val_accuracy: 0.9994 - val_loss: 0.0084\n",
      "Epoch 135/1000\n",
      "\u001b[1m122/146\u001b[0m \u001b[32m━━━━━━━━━━━━━━━━\u001b[0m\u001b[37m━━━━\u001b[0m \u001b[1m0s\u001b[0m 2ms/step - accuracy: 0.9964 - loss: 0.0086\n",
      "Epoch 135: val_loss did not improve from 0.00350\n",
      "\u001b[1m146/146\u001b[0m \u001b[32m━━━━━━━━━━━━━━━━━━━━\u001b[0m\u001b[37m\u001b[0m \u001b[1m0s\u001b[0m 3ms/step - accuracy: 0.9962 - loss: 0.0092 - val_accuracy: 0.9987 - val_loss: 0.0069\n",
      "Epoch 136/1000\n",
      "\u001b[1m128/146\u001b[0m \u001b[32m━━━━━━━━━━━━━━━━━\u001b[0m\u001b[37m━━━\u001b[0m \u001b[1m0s\u001b[0m 2ms/step - accuracy: 0.9963 - loss: 0.0098\n",
      "Epoch 136: val_loss did not improve from 0.00350\n",
      "\u001b[1m146/146\u001b[0m \u001b[32m━━━━━━━━━━━━━━━━━━━━\u001b[0m\u001b[37m\u001b[0m \u001b[1m0s\u001b[0m 3ms/step - accuracy: 0.9964 - loss: 0.0097 - val_accuracy: 0.9994 - val_loss: 0.0079\n",
      "Epoch 137/1000\n",
      "\u001b[1m126/146\u001b[0m \u001b[32m━━━━━━━━━━━━━━━━━\u001b[0m\u001b[37m━━━\u001b[0m \u001b[1m0s\u001b[0m 2ms/step - accuracy: 0.9972 - loss: 0.0113\n",
      "Epoch 137: val_loss did not improve from 0.00350\n",
      "\u001b[1m146/146\u001b[0m \u001b[32m━━━━━━━━━━━━━━━━━━━━\u001b[0m\u001b[37m\u001b[0m \u001b[1m0s\u001b[0m 3ms/step - accuracy: 0.9972 - loss: 0.0112 - val_accuracy: 0.9987 - val_loss: 0.0041\n",
      "Epoch 138/1000\n",
      "\u001b[1m124/146\u001b[0m \u001b[32m━━━━━━━━━━━━━━━━\u001b[0m\u001b[37m━━━━\u001b[0m \u001b[1m0s\u001b[0m 2ms/step - accuracy: 0.9955 - loss: 0.0142\n",
      "Epoch 138: val_loss did not improve from 0.00350\n",
      "\u001b[1m146/146\u001b[0m \u001b[32m━━━━━━━━━━━━━━━━━━━━\u001b[0m\u001b[37m\u001b[0m \u001b[1m0s\u001b[0m 3ms/step - accuracy: 0.9953 - loss: 0.0146 - val_accuracy: 0.9987 - val_loss: 0.0089\n",
      "Epoch 139/1000\n",
      "\u001b[1m128/146\u001b[0m \u001b[32m━━━━━━━━━━━━━━━━━\u001b[0m\u001b[37m━━━\u001b[0m \u001b[1m0s\u001b[0m 2ms/step - accuracy: 0.9965 - loss: 0.0109\n",
      "Epoch 139: val_loss did not improve from 0.00350\n",
      "\u001b[1m146/146\u001b[0m \u001b[32m━━━━━━━━━━━━━━━━━━━━\u001b[0m\u001b[37m\u001b[0m \u001b[1m0s\u001b[0m 3ms/step - accuracy: 0.9964 - loss: 0.0112 - val_accuracy: 0.9981 - val_loss: 0.0131\n",
      "Epoch 140/1000\n",
      "\u001b[1m143/146\u001b[0m \u001b[32m━━━━━━━━━━━━━━━━━━━\u001b[0m\u001b[37m━\u001b[0m \u001b[1m0s\u001b[0m 2ms/step - accuracy: 0.9922 - loss: 0.0173\n",
      "Epoch 140: val_loss did not improve from 0.00350\n",
      "\u001b[1m146/146\u001b[0m \u001b[32m━━━━━━━━━━━━━━━━━━━━\u001b[0m\u001b[37m\u001b[0m \u001b[1m0s\u001b[0m 3ms/step - accuracy: 0.9923 - loss: 0.0172 - val_accuracy: 0.9994 - val_loss: 0.0091\n",
      "Epoch 141/1000\n",
      "\u001b[1m125/146\u001b[0m \u001b[32m━━━━━━━━━━━━━━━━━\u001b[0m\u001b[37m━━━\u001b[0m \u001b[1m0s\u001b[0m 2ms/step - accuracy: 0.9968 - loss: 0.0103\n",
      "Epoch 141: val_loss did not improve from 0.00350\n",
      "\u001b[1m146/146\u001b[0m \u001b[32m━━━━━━━━━━━━━━━━━━━━\u001b[0m\u001b[37m\u001b[0m \u001b[1m0s\u001b[0m 3ms/step - accuracy: 0.9966 - loss: 0.0111 - val_accuracy: 0.9981 - val_loss: 0.0099\n",
      "Epoch 142/1000\n",
      "\u001b[1m124/146\u001b[0m \u001b[32m━━━━━━━━━━━━━━━━\u001b[0m\u001b[37m━━━━\u001b[0m \u001b[1m0s\u001b[0m 2ms/step - accuracy: 0.9952 - loss: 0.0143\n",
      "Epoch 142: val_loss did not improve from 0.00350\n",
      "\u001b[1m146/146\u001b[0m \u001b[32m━━━━━━━━━━━━━━━━━━━━\u001b[0m\u001b[37m\u001b[0m \u001b[1m0s\u001b[0m 3ms/step - accuracy: 0.9952 - loss: 0.0143 - val_accuracy: 0.9974 - val_loss: 0.0161\n",
      "Epoch 143/1000\n",
      "\u001b[1m126/146\u001b[0m \u001b[32m━━━━━━━━━━━━━━━━━\u001b[0m\u001b[37m━━━\u001b[0m \u001b[1m0s\u001b[0m 2ms/step - accuracy: 0.9946 - loss: 0.0172\n",
      "Epoch 143: val_loss did not improve from 0.00350\n",
      "\u001b[1m146/146\u001b[0m \u001b[32m━━━━━━━━━━━━━━━━━━━━\u001b[0m\u001b[37m\u001b[0m \u001b[1m0s\u001b[0m 3ms/step - accuracy: 0.9946 - loss: 0.0171 - val_accuracy: 0.9974 - val_loss: 0.0128\n",
      "Epoch 144/1000\n",
      "\u001b[1m127/146\u001b[0m \u001b[32m━━━━━━━━━━━━━━━━━\u001b[0m\u001b[37m━━━\u001b[0m \u001b[1m0s\u001b[0m 2ms/step - accuracy: 0.9986 - loss: 0.0106\n",
      "Epoch 144: val_loss did not improve from 0.00350\n",
      "\u001b[1m146/146\u001b[0m \u001b[32m━━━━━━━━━━━━━━━━━━━━\u001b[0m\u001b[37m\u001b[0m \u001b[1m0s\u001b[0m 3ms/step - accuracy: 0.9983 - loss: 0.0112 - val_accuracy: 0.9981 - val_loss: 0.0106\n",
      "Epoch 145/1000\n",
      "\u001b[1m144/146\u001b[0m \u001b[32m━━━━━━━━━━━━━━━━━━━\u001b[0m\u001b[37m━\u001b[0m \u001b[1m0s\u001b[0m 2ms/step - accuracy: 0.9981 - loss: 0.0070\n",
      "Epoch 145: val_loss did not improve from 0.00350\n",
      "\u001b[1m146/146\u001b[0m \u001b[32m━━━━━━━━━━━━━━━━━━━━\u001b[0m\u001b[37m\u001b[0m \u001b[1m0s\u001b[0m 3ms/step - accuracy: 0.9981 - loss: 0.0070 - val_accuracy: 0.9987 - val_loss: 0.0088\n",
      "Epoch 146/1000\n",
      "\u001b[1m122/146\u001b[0m \u001b[32m━━━━━━━━━━━━━━━━\u001b[0m\u001b[37m━━━━\u001b[0m \u001b[1m0s\u001b[0m 2ms/step - accuracy: 0.9956 - loss: 0.0112\n",
      "Epoch 146: val_loss did not improve from 0.00350\n",
      "\u001b[1m146/146\u001b[0m \u001b[32m━━━━━━━━━━━━━━━━━━━━\u001b[0m\u001b[37m\u001b[0m \u001b[1m0s\u001b[0m 3ms/step - accuracy: 0.9958 - loss: 0.0109 - val_accuracy: 0.9981 - val_loss: 0.0078\n",
      "Epoch 147/1000\n",
      "\u001b[1m130/146\u001b[0m \u001b[32m━━━━━━━━━━━━━━━━━\u001b[0m\u001b[37m━━━\u001b[0m \u001b[1m0s\u001b[0m 2ms/step - accuracy: 0.9973 - loss: 0.0098\n",
      "Epoch 147: val_loss did not improve from 0.00350\n",
      "\u001b[1m146/146\u001b[0m \u001b[32m━━━━━━━━━━━━━━━━━━━━\u001b[0m\u001b[37m\u001b[0m \u001b[1m0s\u001b[0m 3ms/step - accuracy: 0.9972 - loss: 0.0102 - val_accuracy: 0.9981 - val_loss: 0.0078\n",
      "Epoch 148/1000\n",
      "\u001b[1m127/146\u001b[0m \u001b[32m━━━━━━━━━━━━━━━━━\u001b[0m\u001b[37m━━━\u001b[0m \u001b[1m0s\u001b[0m 2ms/step - accuracy: 0.9959 - loss: 0.0082\n",
      "Epoch 148: val_loss did not improve from 0.00350\n",
      "\u001b[1m146/146\u001b[0m \u001b[32m━━━━━━━━━━━━━━━━━━━━\u001b[0m\u001b[37m\u001b[0m \u001b[1m0s\u001b[0m 3ms/step - accuracy: 0.9960 - loss: 0.0082 - val_accuracy: 0.9987 - val_loss: 0.0094\n",
      "Epoch 149/1000\n",
      "\u001b[1m129/146\u001b[0m \u001b[32m━━━━━━━━━━━━━━━━━\u001b[0m\u001b[37m━━━\u001b[0m \u001b[1m0s\u001b[0m 2ms/step - accuracy: 0.9975 - loss: 0.0070\n",
      "Epoch 149: val_loss did not improve from 0.00350\n",
      "\u001b[1m146/146\u001b[0m \u001b[32m━━━━━━━━━━━━━━━━━━━━\u001b[0m\u001b[37m\u001b[0m \u001b[1m0s\u001b[0m 3ms/step - accuracy: 0.9974 - loss: 0.0071 - val_accuracy: 0.9981 - val_loss: 0.0119\n",
      "Epoch 150/1000\n",
      "\u001b[1m128/146\u001b[0m \u001b[32m━━━━━━━━━━━━━━━━━\u001b[0m\u001b[37m━━━\u001b[0m \u001b[1m0s\u001b[0m 2ms/step - accuracy: 0.9951 - loss: 0.0125\n",
      "Epoch 150: val_loss did not improve from 0.00350\n",
      "\u001b[1m146/146\u001b[0m \u001b[32m━━━━━━━━━━━━━━━━━━━━\u001b[0m\u001b[37m\u001b[0m \u001b[1m0s\u001b[0m 3ms/step - accuracy: 0.9950 - loss: 0.0128 - val_accuracy: 0.9987 - val_loss: 0.0132\n",
      "Epoch 150: early stopping\n",
      "Restoring model weights from the end of the best epoch: 100.\n"
     ]
    },
    {
     "data": {
      "text/plain": [
       "<keras.src.callbacks.history.History at 0x7a803772f4d0>"
      ]
     },
     "execution_count": 15,
     "metadata": {},
     "output_type": "execute_result"
    }
   ],
   "source": [
    "KeypointGestureModel.train()"
   ]
  },
  {
   "cell_type": "code",
   "execution_count": null,
   "id": "71Ufa9H4IJH7",
   "metadata": {
    "colab": {
     "base_uri": "https://localhost:8080/"
    },
    "executionInfo": {
     "elapsed": 1880,
     "status": "ok",
     "timestamp": 1750503317339,
     "user": {
      "displayName": "Hermione B.",
      "userId": "15561416187837768693"
     },
     "user_tz": -120
    },
    "id": "71Ufa9H4IJH7",
    "outputId": "029129ee-fac6-452f-8b68-c2cbb265e6da"
   },
   "outputs": [
    {
     "name": "stdout",
     "output_type": "stream",
     "text": [
      "\u001b[1m25/25\u001b[0m \u001b[32m━━━━━━━━━━━━━━━━━━━━\u001b[0m\u001b[37m\u001b[0m \u001b[1m2s\u001b[0m 16ms/step - accuracy: 0.9991 - loss: 0.0041\n",
      "Test: accuracy is 0.9994 and loss is 0.0035\n"
     ]
    },
    {
     "data": {
      "text/plain": [
       "<Sequential name=sequential, built=True>"
      ]
     },
     "execution_count": 16,
     "metadata": {},
     "output_type": "execute_result"
    }
   ],
   "source": [
    "KeypointGestureModel.evaluate_saved_model()"
   ]
  },
  {
   "cell_type": "code",
   "execution_count": null,
   "id": "nAln4jbpIRRV",
   "metadata": {
    "colab": {
     "base_uri": "https://localhost:8080/"
    },
    "executionInfo": {
     "elapsed": 101,
     "status": "ok",
     "timestamp": 1750503468338,
     "user": {
      "displayName": "Hermione B.",
      "userId": "15561416187837768693"
     },
     "user_tz": -120
    },
    "id": "nAln4jbpIRRV",
    "outputId": "12e14c5d-9deb-4996-c7a3-e083a2e62805"
   },
   "outputs": [
    {
     "name": "stdout",
     "output_type": "stream",
     "text": [
      "\u001b[1m1/1\u001b[0m \u001b[32m━━━━━━━━━━━━━━━━━━━━\u001b[0m\u001b[37m\u001b[0m \u001b[1m0s\u001b[0m 36ms/step\n"
     ]
    },
    {
     "data": {
      "text/plain": [
       "np.int64(0)"
      ]
     },
     "execution_count": 18,
     "metadata": {},
     "output_type": "execute_result"
    }
   ],
   "source": [
    "prediction = KeypointGestureModel.predict(X_test[0])\n",
    "np.argmax(np.squeeze(prediction))"
   ]
  },
  {
   "cell_type": "code",
   "execution_count": 9,
   "id": "Psdq3SjbJCa-",
   "metadata": {
    "executionInfo": {
     "elapsed": 323,
     "status": "ok",
     "timestamp": 1750503563905,
     "user": {
      "displayName": "Hermione B.",
      "userId": "15561416187837768693"
     },
     "user_tz": -120
    },
    "id": "Psdq3SjbJCa-"
   },
   "outputs": [],
   "source": [
    "model = tf.keras.models.load_model(model_save_path)"
   ]
  },
  {
   "cell_type": "code",
   "execution_count": null,
   "id": "0d5d18c3",
   "metadata": {},
   "outputs": [],
   "source": []
  },
  {
   "cell_type": "code",
   "execution_count": 15,
   "id": "9c9013a6",
   "metadata": {},
   "outputs": [
    {
     "data": {
      "text/plain": [
       "array([0, 0, 5, ..., 0, 2, 4], dtype=int64)"
      ]
     },
     "execution_count": 15,
     "metadata": {},
     "output_type": "execute_result"
    }
   ],
   "source": [
    "y_test"
   ]
  },
  {
   "cell_type": "code",
   "execution_count": 20,
   "id": "66e37e34",
   "metadata": {},
   "outputs": [
    {
     "name": "stdout",
     "output_type": "stream",
     "text": [
      "\u001b[1m1/1\u001b[0m \u001b[32m━━━━━━━━━━━━━━━━━━━━\u001b[0m\u001b[37m\u001b[0m \u001b[1m0s\u001b[0m 52ms/step\n"
     ]
    },
    {
     "data": {
      "text/plain": [
       "4"
      ]
     },
     "execution_count": 20,
     "metadata": {},
     "output_type": "execute_result"
    }
   ],
   "source": [
    "preds = model.predict(np.array([X_test[-1]]))\n",
    "np.argmax(np.squeeze(preds))"
   ]
  },
  {
   "cell_type": "code",
   "execution_count": 20,
   "id": "iaZAotwhIrt0",
   "metadata": {
    "colab": {
     "base_uri": "https://localhost:8080/",
     "height": 817
    },
    "executionInfo": {
     "elapsed": 1614,
     "status": "ok",
     "timestamp": 1750503569321,
     "user": {
      "displayName": "Hermione B.",
      "userId": "15561416187837768693"
     },
     "user_tz": -120
    },
    "id": "iaZAotwhIrt0",
    "outputId": "25c7fd78-2dd9-46e3-c869-5d8ff057fc23"
   },
   "outputs": [
    {
     "name": "stdout",
     "output_type": "stream",
     "text": [
      "\u001b[1m49/49\u001b[0m \u001b[32m━━━━━━━━━━━━━━━━━━━━\u001b[0m\u001b[37m\u001b[0m \u001b[1m1s\u001b[0m 9ms/step\n"
     ]
    },
    {
     "data": {
      "image/png": "[encoded data removed]",
      "text/plain": [
       "<Figure size 700x600 with 2 Axes>"
      ]
     },
     "metadata": {},
     "output_type": "display_data"
    },
    {
     "name": "stdout",
     "output_type": "stream",
     "text": [
      "Classification Report\n",
      "              precision    recall  f1-score   support\n",
      "\n",
      "           0       1.00      1.00      1.00       420\n",
      "           1       1.00      1.00      1.00       397\n",
      "           2       1.00      1.00      1.00       369\n",
      "           3       1.00      1.00      1.00       178\n",
      "           4       1.00      1.00      1.00        37\n",
      "           5       1.00      1.00      1.00        62\n",
      "           6       1.00      1.00      1.00        42\n",
      "           7       1.00      1.00      1.00        43\n",
      "\n",
      "    accuracy                           1.00      1548\n",
      "   macro avg       1.00      1.00      1.00      1548\n",
      "weighted avg       1.00      1.00      1.00      1548\n",
      "\n"
     ]
    }
   ],
   "source": [
    "import seaborn as sns\n",
    "import matplotlib.pyplot as plt\n",
    "from sklearn.metrics import confusion_matrix, classification_report\n",
    "\n",
    "def print_confusion_matrix(y_true, y_pred, report=True):\n",
    "    labels = sorted(list(set(y_true)))\n",
    "    cmx_data = confusion_matrix(y_true, y_pred, labels=labels)\n",
    "\n",
    "    df_cmx = pd.DataFrame(cmx_data, index=labels, columns=labels)\n",
    "\n",
    "    fig, ax = plt.subplots(figsize=(7, 6))\n",
    "    sns.heatmap(df_cmx, annot=True, fmt='g' ,square=False)\n",
    "    ax.set_ylim(len(set(y_true)), 0)\n",
    "    plt.show()\n",
    "\n",
    "    if report:\n",
    "        print('Classification Report')\n",
    "        print(classification_report(y_test, y_pred))\n",
    "\n",
    "Y_pred = model.predict(X_test)\n",
    "y_pred = np.argmax(Y_pred, axis=1)\n",
    "\n",
    "print_confusion_matrix(y_test, y_pred)"
   ]
  }
 ],
 "metadata": {
  "accelerator": "GPU",
  "colab": {
   "gpuType": "A100",
   "machine_shape": "hm",
   "provenance": []
  },
  "kernelspec": {
   "display_name": "Python 3",
   "name": "python3"
  },
  "language_info": {
   "codemirror_mode": {
    "name": "ipython",
    "version": 3
   },
   "file_extension": ".py",
   "mimetype": "text/x-python",
   "name": "python",
   "nbconvert_exporter": "python",
   "pygments_lexer": "ipython3",
   "version": "3.11.9"
  }
 },
 "nbformat": 4,
 "nbformat_minor": 5
}
